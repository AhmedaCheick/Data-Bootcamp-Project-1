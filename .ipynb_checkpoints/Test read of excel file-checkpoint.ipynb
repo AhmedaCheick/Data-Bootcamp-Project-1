{
 "cells": [
  {
   "cell_type": "code",
   "execution_count": 5,
   "metadata": {},
   "outputs": [],
   "source": [
    "# Import pandas\n",
    "import pandas as pd"
   ]
  },
  {
   "cell_type": "code",
   "execution_count": 6,
   "metadata": {},
   "outputs": [
    {
     "name": "stdout",
     "output_type": "stream",
     "text": [
      "    shutdown_number   from_date     to_date  length_in_days  \\\n",
      "0                 1  1976-09-30  1976-10-11              12   \n",
      "1                 2  1977-09-30  1977-10-13              14   \n",
      "2                 3  1977-10-31  1977-11-09              10   \n",
      "3                 4  1977-11-30  1977-12-09              10   \n",
      "4                 5  1978-09-30  1978-10-18              19   \n",
      "5                 6  1979-09-30  1979-10-12              13   \n",
      "6                 7  1981-11-20  1981-11-23               4   \n",
      "7                 8  1982-09-30  1982-10-02               3   \n",
      "8                 9  1982-12-17  1982-12-21               5   \n",
      "9                10  1983-11-10  1983-11-14               5   \n",
      "10               11  1984-09-30  1984-10-03               4   \n",
      "11               12  1984-10-03  1984-10-05               3   \n",
      "12               13  1986-10-16  1986-10-18               3   \n",
      "13               14  1987-12-18  1987-12-20               3   \n",
      "14               15  1990-10-05  1990-10-09               5   \n",
      "15               16  1995-11-13  1995-11-19               7   \n",
      "16               17  1995-12-05  1996-01-06              33   \n",
      "17               18  2013-10-01  2013-10-17              17   \n",
      "18               19  2018-01-20  2018-01-22               3   \n",
      "19               20  2018-02-09  2018-02-09               1   \n",
      "\n",
      "   pres_party_in_power senate_party_in_power house_party_in_power  \n",
      "0                    R                     D                    D  \n",
      "1                    D                     D                    D  \n",
      "2                    D                     D                    D  \n",
      "3                    D                     D                    D  \n",
      "4                    D                     D                    D  \n",
      "5                    D                     D                    D  \n",
      "6                    R                     R                    D  \n",
      "7                    R                     R                    D  \n",
      "8                    R                     R                    D  \n",
      "9                    R                     R                    D  \n",
      "10                   R                     R                    D  \n",
      "11                   R                     R                    D  \n",
      "12                   R                     R                    D  \n",
      "13                   R                     D                    D  \n",
      "14                   R                     D                    D  \n",
      "15                   D                     R                    R  \n",
      "16                   D                     R                    R  \n",
      "17                   D                     D                    R  \n",
      "18                   R                     R                    R  \n",
      "19                   R                     R                    R  \n",
      "\n"
     ]
    }
   ],
   "source": [
    "# The source of the Excel file is:\n",
    "# https://www.vox.com/policy-and-politics/2018/1/19/16905584/government-shutdown-history-clinton-obama-explained\n",
    "\n",
    "# Load spreadsheet\n",
    "xl = pd.ExcelFile('government_shutdown_stats.xlsx')\n",
    "\n",
    "# Load a sheet into a DataFrame by name:\n",
    "shutdown_df = xl.parse(xl.sheet_names[0])\n",
    "\n",
    "# Print the df\n",
    "print(shutdown_df)\n",
    "print()\n"
   ]
  }
 ],
 "metadata": {
  "kernelspec": {
   "display_name": "Python 3",
   "language": "python",
   "name": "python3"
  },
  "language_info": {
   "codemirror_mode": {
    "name": "ipython",
    "version": 3
   },
   "file_extension": ".py",
   "mimetype": "text/x-python",
   "name": "python",
   "nbconvert_exporter": "python",
   "pygments_lexer": "ipython3",
   "version": "3.7.0"
  }
 },
 "nbformat": 4,
 "nbformat_minor": 2
}
