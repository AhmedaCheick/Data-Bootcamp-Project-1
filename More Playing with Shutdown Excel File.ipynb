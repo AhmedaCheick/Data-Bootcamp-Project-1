{
 "cells": [
  {
   "cell_type": "code",
   "execution_count": 14,
   "metadata": {},
   "outputs": [],
   "source": [
    "# Import pandas\n",
    "import pandas as pd"
   ]
  },
  {
   "cell_type": "code",
   "execution_count": 43,
   "metadata": {},
   "outputs": [
    {
     "name": "stdout",
     "output_type": "stream",
     "text": [
      "    shutdown_number   from_date     to_date  Length_in_days  \\\n",
      "0                 1  1976-09-30  1976-10-11              12   \n",
      "1                 2  1977-09-30  1977-10-13              14   \n",
      "2                 3  1977-10-31  1977-11-09              10   \n",
      "3                 4  1977-11-30  1977-12-09              10   \n",
      "4                 5  1978-09-30  1978-10-18              19   \n",
      "5                 6  1979-09-30  1979-10-12              13   \n",
      "6                 7  1981-11-20  1981-11-23               4   \n",
      "7                 8  1982-09-30  1982-10-02               3   \n",
      "8                 9  1982-12-17  1982-12-21               5   \n",
      "9                10  1983-11-10  1983-11-14               5   \n",
      "10               11  1984-09-30  1984-10-03               4   \n",
      "11               12  1984-10-03  1984-10-05               3   \n",
      "12               13  1986-10-16  1986-10-18               3   \n",
      "13               14  1987-12-18  1987-12-20               3   \n",
      "14               15  1990-10-05  1990-10-09               5   \n",
      "15               16  1995-11-13  1995-11-19               7   \n",
      "16               17  1995-12-05  1996-01-06              33   \n",
      "17               18  2013-10-01  2013-10-17              17   \n",
      "18               19  2018-01-20  2018-01-22               3   \n",
      "19               20  2018-02-09  2018-02-09               1   \n",
      "\n",
      "   pres_party_in_power senate_party_in_power house_party_in_power  \n",
      "0                    R                     D                    D  \n",
      "1                    D                     D                    D  \n",
      "2                    D                     D                    D  \n",
      "3                    D                     D                    D  \n",
      "4                    D                     D                    D  \n",
      "5                    D                     D                    D  \n",
      "6                    R                     R                    D  \n",
      "7                    R                     R                    D  \n",
      "8                    R                     R                    D  \n",
      "9                    R                     R                    D  \n",
      "10                   R                     R                    D  \n",
      "11                   R                     R                    D  \n",
      "12                   R                     R                    D  \n",
      "13                   R                     D                    D  \n",
      "14                   R                     D                    D  \n",
      "15                   D                     R                    R  \n",
      "16                   D                     R                    R  \n",
      "17                   D                     D                    R  \n",
      "18                   R                     R                    R  \n",
      "19                   R                     R                    R  \n",
      "\n",
      "There were a total of 20 US government shutdowns\n"
     ]
    }
   ],
   "source": [
    "# Load spreadsheet\n",
    "xl = pd.ExcelFile('government_shutdown_stats.xlsx')\n",
    "\n",
    "# Load a sheet into a DataFrame by name:\n",
    "shutdown_df = xl.parse(xl.sheet_names[0])\n",
    "\n",
    "# Print the df\n",
    "print(shutdown_df)\n",
    "print()\n"
   ]
  },
  {
   "cell_type": "code",
   "execution_count": 59,
   "metadata": {},
   "outputs": [
    {
     "name": "stdout",
     "output_type": "stream",
     "text": [
      "There were a total of 20 US government shutdowns\n",
      "\n",
      "A Democratic President was in power in 8 of the 20 shutdowns - that's 40.0%\n",
      "\n",
      "A Republican President was in power in 12 of the 20 shutdowns - that's 60.0%\n",
      "\n",
      "A Democratic Senate was in power in 9 of the 20 shutdowns - that's 45.0%\n",
      "\n",
      "A Republican Senate was in power in 11 of the 20 shutdowns - that's 55.0%\n",
      "\n",
      "A Democratic House was in power in 15 of the 20 shutdowns - that's 75.0%\n",
      "\n",
      "A Republican House was in power in 5 of the 20 shutdowns - that's 25.0%\n",
      "\n"
     ]
    }
   ],
   "source": [
    "# Some initial stats\n",
    "\n",
    "print(f\"There were a total of {len(shutdown_df)} US government shutdowns\")\n",
    "print()\n",
    "\n",
    "# Presidential\n",
    "\n",
    "dppip = shutdown_df.loc[(shutdown_df[\"pres_party_in_power\"] == \"D\")]\n",
    "print(f\"A Democratic President was in power in {dppip['shutdown_number'].count()} of the {len(shutdown_df)} shutdowns \\\n",
    "- that's {format((dppip['shutdown_number'].count() / len(shutdown_df) * 100), ',.1f')}%\")\n",
    "print()\n",
    "\n",
    "rppip = shutdown_df.loc[(shutdown_df[\"pres_party_in_power\"] == \"R\")]\n",
    "print(f\"A Republican President was in power in {rppip['shutdown_number'].count()} of the {len(shutdown_df)} shutdowns \\\n",
    "- that's {format((rppip['shutdown_number'].count() / len(shutdown_df) * 100), ',.1f')}%\")\n",
    "print()\n",
    "\n",
    "# Senate\n",
    "\n",
    "dspip = shutdown_df.loc[(shutdown_df[\"senate_party_in_power\"] == \"D\")]\n",
    "print(f\"A Democratic Senate was in power in {dspip['shutdown_number'].count()} of the {len(shutdown_df)} shutdowns \\\n",
    "- that's {format((dspip['shutdown_number'].count() / len(shutdown_df) * 100), ',.1f')}%\")\n",
    "print()\n",
    "\n",
    "rspip = shutdown_df.loc[(shutdown_df[\"senate_party_in_power\"] == \"R\")]\n",
    "print(f\"A Republican Senate was in power in {rspip['shutdown_number'].count()} of the {len(shutdown_df)} shutdowns \\\n",
    "- that's {format((rspip['shutdown_number'].count() / len(shutdown_df) * 100), ',.1f')}%\")\n",
    "print()\n",
    "\n",
    "# House\n",
    "\n",
    "dhpip = shutdown_df.loc[(shutdown_df[\"house_party_in_power\"] == \"D\")]\n",
    "print(f\"A Democratic House was in power in {dhpip['shutdown_number'].count()} of the {len(shutdown_df)} shutdowns \\\n",
    "- that's {format((dhpip['shutdown_number'].count() / len(shutdown_df) * 100), ',.1f')}%\")\n",
    "print()\n",
    "\n",
    "rhpip = shutdown_df.loc[(shutdown_df[\"house_party_in_power\"] == \"R\")]\n",
    "print(f\"A Republican House was in power in {rhpip['shutdown_number'].count()} of the {len(shutdown_df)} shutdowns \\\n",
    "- that's {format((rhpip['shutdown_number'].count() / len(shutdown_df) * 100), ',.1f')}%\")\n",
    "print()\n"
   ]
  }
 ],
 "metadata": {
  "kernelspec": {
   "display_name": "Python 3",
   "language": "python",
   "name": "python3"
  },
  "language_info": {
   "codemirror_mode": {
    "name": "ipython",
    "version": 3
   },
   "file_extension": ".py",
   "mimetype": "text/x-python",
   "name": "python",
   "nbconvert_exporter": "python",
   "pygments_lexer": "ipython3",
   "version": "3.7.0"
  }
 },
 "nbformat": 4,
 "nbformat_minor": 2
}
