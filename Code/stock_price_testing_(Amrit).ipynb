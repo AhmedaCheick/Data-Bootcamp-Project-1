{
 "cells": [
  {
   "cell_type": "code",
   "execution_count": 3,
   "metadata": {},
   "outputs": [],
   "source": [
    "import pandas as pd\n",
    "import numpy as np\n",
    "import matplotlib.pyplot as plt"
   ]
  },
  {
   "cell_type": "code",
   "execution_count": 4,
   "metadata": {},
   "outputs": [],
   "source": [
    "## csv of s&p 500 data from yahoo finance\n",
    "filepath = \"../Input/^GSPC.csv\"\n",
    "\n",
    "# Load spreadsheet\n",
    "xl = pd.ExcelFile(\"../Input/government_shutdown_stats.xlsx\")\n",
    "\n",
    "# Load a sheet into a DataFrame by name:\n",
    "shutdown_df = xl.parse(xl.sheet_names[0])\n"
   ]
  },
  {
   "cell_type": "code",
   "execution_count": 5,
   "metadata": {},
   "outputs": [],
   "source": [
    "stock_prices_unclean = pd.read_csv(filepath)"
   ]
  },
  {
   "cell_type": "code",
   "execution_count": 7,
   "metadata": {},
   "outputs": [
    {
     "data": {
      "text/html": [
       "<div>\n",
       "<style scoped>\n",
       "    .dataframe tbody tr th:only-of-type {\n",
       "        vertical-align: middle;\n",
       "    }\n",
       "\n",
       "    .dataframe tbody tr th {\n",
       "        vertical-align: top;\n",
       "    }\n",
       "\n",
       "    .dataframe thead th {\n",
       "        text-align: right;\n",
       "    }\n",
       "</style>\n",
       "<table border=\"1\" class=\"dataframe\">\n",
       "  <thead>\n",
       "    <tr style=\"text-align: right;\">\n",
       "      <th></th>\n",
       "      <th>Date</th>\n",
       "      <th>Open</th>\n",
       "      <th>High</th>\n",
       "      <th>Low</th>\n",
       "      <th>Close</th>\n",
       "      <th>Adj Close</th>\n",
       "      <th>Volume</th>\n",
       "    </tr>\n",
       "  </thead>\n",
       "  <tbody>\n",
       "    <tr>\n",
       "      <th>0</th>\n",
       "      <td>1977-01-10</td>\n",
       "      <td>105.010002</td>\n",
       "      <td>105.750000</td>\n",
       "      <td>104.459999</td>\n",
       "      <td>105.199997</td>\n",
       "      <td>105.199997</td>\n",
       "      <td>20860000</td>\n",
       "    </tr>\n",
       "    <tr>\n",
       "      <th>1</th>\n",
       "      <td>1977-01-11</td>\n",
       "      <td>105.199997</td>\n",
       "      <td>105.599998</td>\n",
       "      <td>103.760002</td>\n",
       "      <td>104.120003</td>\n",
       "      <td>104.120003</td>\n",
       "      <td>24100000</td>\n",
       "    </tr>\n",
       "    <tr>\n",
       "      <th>2</th>\n",
       "      <td>1977-01-12</td>\n",
       "      <td>104.120003</td>\n",
       "      <td>104.180000</td>\n",
       "      <td>102.750000</td>\n",
       "      <td>103.400002</td>\n",
       "      <td>103.400002</td>\n",
       "      <td>22670000</td>\n",
       "    </tr>\n",
       "    <tr>\n",
       "      <th>3</th>\n",
       "      <td>1977-01-13</td>\n",
       "      <td>103.400002</td>\n",
       "      <td>104.599998</td>\n",
       "      <td>103.209999</td>\n",
       "      <td>104.199997</td>\n",
       "      <td>104.199997</td>\n",
       "      <td>24780000</td>\n",
       "    </tr>\n",
       "    <tr>\n",
       "      <th>4</th>\n",
       "      <td>1977-01-14</td>\n",
       "      <td>104.199997</td>\n",
       "      <td>104.709999</td>\n",
       "      <td>103.370003</td>\n",
       "      <td>104.010002</td>\n",
       "      <td>104.010002</td>\n",
       "      <td>24480000</td>\n",
       "    </tr>\n",
       "  </tbody>\n",
       "</table>\n",
       "</div>"
      ],
      "text/plain": [
       "         Date        Open        High         Low       Close   Adj Close  \\\n",
       "0  1977-01-10  105.010002  105.750000  104.459999  105.199997  105.199997   \n",
       "1  1977-01-11  105.199997  105.599998  103.760002  104.120003  104.120003   \n",
       "2  1977-01-12  104.120003  104.180000  102.750000  103.400002  103.400002   \n",
       "3  1977-01-13  103.400002  104.599998  103.209999  104.199997  104.199997   \n",
       "4  1977-01-14  104.199997  104.709999  103.370003  104.010002  104.010002   \n",
       "\n",
       "     Volume  \n",
       "0  20860000  \n",
       "1  24100000  \n",
       "2  22670000  \n",
       "3  24780000  \n",
       "4  24480000  "
      ]
     },
     "execution_count": 7,
     "metadata": {},
     "output_type": "execute_result"
    }
   ],
   "source": [
    "stock_prices_unclean.head()"
   ]
  },
  {
   "cell_type": "code",
   "execution_count": null,
   "metadata": {},
   "outputs": [],
   "source": []
  }
 ],
 "metadata": {
  "kernelspec": {
   "display_name": "Python 3",
   "language": "python",
   "name": "python3"
  },
  "language_info": {
   "codemirror_mode": {
    "name": "ipython",
    "version": 3
   },
   "file_extension": ".py",
   "mimetype": "text/x-python",
   "name": "python",
   "nbconvert_exporter": "python",
   "pygments_lexer": "ipython3",
   "version": "3.7.0"
  }
 },
 "nbformat": 4,
 "nbformat_minor": 2
}
