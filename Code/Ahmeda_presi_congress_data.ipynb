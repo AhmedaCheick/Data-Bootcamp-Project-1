{
 "cells": [
  {
   "cell_type": "markdown",
   "metadata": {},
   "source": [
    "### Cleaning Data"
   ]
  },
  {
   "cell_type": "code",
   "execution_count": 67,
   "metadata": {},
   "outputs": [],
   "source": [
    "import pandas as pd \n",
    "import os"
   ]
  },
  {
   "cell_type": "markdown",
   "metadata": {},
   "source": [
    "##### President and Congress 1975 through 2010"
   ]
  },
  {
   "cell_type": "code",
   "execution_count": 68,
   "metadata": {},
   "outputs": [],
   "source": [
    "# loading url of party control 1933-2010 from southeast missoury state univerity\n",
    "url_semo = 'http://cstl-cla.semo.edu/rdrenka/ui320-75/presandcongress.asp'"
   ]
  },
  {
   "cell_type": "code",
   "execution_count": 69,
   "metadata": {},
   "outputs": [],
   "source": [
    "# Creating a dataframe \n",
    "list_semo = pd.read_html(url_semo)\n",
    "\n",
    "# DataFrame\n",
    "df = list_semo[0]"
   ]
  },
  {
   "cell_type": "code",
   "execution_count": 70,
   "metadata": {},
   "outputs": [],
   "source": [
    "list_del = [0,1,41,42]"
   ]
  },
  {
   "cell_type": "code",
   "execution_count": 71,
   "metadata": {},
   "outputs": [],
   "source": [
    "# Create a list of range 2 to 22 inclusive \n",
    "list_range = list(range(2,23))"
   ]
  },
  {
   "cell_type": "code",
   "execution_count": 72,
   "metadata": {},
   "outputs": [],
   "source": [
    "# extend first list to the range list\n",
    "list_del.extend(list_range)"
   ]
  },
  {
   "cell_type": "code",
   "execution_count": 73,
   "metadata": {},
   "outputs": [],
   "source": [
    "# drop the indices in our dataframe using list_del list \n",
    "party_shutdown_df = df.drop(df.index[list_del])"
   ]
  },
  {
   "cell_type": "code",
   "execution_count": 74,
   "metadata": {},
   "outputs": [],
   "source": [
    "party_with_headers = party_shutdown_df.rename(columns={\n",
    "    0:\"years\",1:\"president\",2:\"party_president\",4:\"house_dem_seats\",5:\"house_rep_seats\",6:\"house_other_seats\",\n",
    "    7:\"senate_dem_seats\",8:\"senate_rep_seats\",9:\"senate_other_seats\",10:\"gov_status\"\n",
    "})\n",
    "\n",
    "# delete column with header '3'\n",
    "del party_with_headers[3]"
   ]
  },
  {
   "cell_type": "code",
   "execution_count": 75,
   "metadata": {},
   "outputs": [
    {
     "data": {
      "text/html": [
       "<div>\n",
       "<style scoped>\n",
       "    .dataframe tbody tr th:only-of-type {\n",
       "        vertical-align: middle;\n",
       "    }\n",
       "\n",
       "    .dataframe tbody tr th {\n",
       "        vertical-align: top;\n",
       "    }\n",
       "\n",
       "    .dataframe thead th {\n",
       "        text-align: right;\n",
       "    }\n",
       "</style>\n",
       "<table border=\"1\" class=\"dataframe\">\n",
       "  <thead>\n",
       "    <tr style=\"text-align: right;\">\n",
       "      <th></th>\n",
       "      <th>years</th>\n",
       "      <th>president</th>\n",
       "      <th>party_president</th>\n",
       "      <th>house_dem_seats</th>\n",
       "      <th>house_rep_seats</th>\n",
       "      <th>house_other_seats</th>\n",
       "      <th>senate_dem_seats</th>\n",
       "      <th>senate_rep_seats</th>\n",
       "      <th>senate_other_seats</th>\n",
       "      <th>gov_status</th>\n",
       "    </tr>\n",
       "  </thead>\n",
       "  <tbody>\n",
       "    <tr>\n",
       "      <th>0</th>\n",
       "      <td>1975-76</td>\n",
       "      <td>Ford</td>\n",
       "      <td>R</td>\n",
       "      <td>291</td>\n",
       "      <td>144</td>\n",
       "      <td>0</td>\n",
       "      <td>61.0</td>\n",
       "      <td>38</td>\n",
       "      <td>1.0</td>\n",
       "      <td>divided</td>\n",
       "    </tr>\n",
       "    <tr>\n",
       "      <th>1</th>\n",
       "      <td>1977-78</td>\n",
       "      <td>Carter</td>\n",
       "      <td>D</td>\n",
       "      <td>292</td>\n",
       "      <td>143</td>\n",
       "      <td>0</td>\n",
       "      <td>62.0</td>\n",
       "      <td>38</td>\n",
       "      <td>0.0</td>\n",
       "      <td>unified</td>\n",
       "    </tr>\n",
       "    <tr>\n",
       "      <th>2</th>\n",
       "      <td>1979-80</td>\n",
       "      <td>Carter</td>\n",
       "      <td>D</td>\n",
       "      <td>277</td>\n",
       "      <td>158</td>\n",
       "      <td>0</td>\n",
       "      <td>59.0</td>\n",
       "      <td>41</td>\n",
       "      <td>0.0</td>\n",
       "      <td>unified</td>\n",
       "    </tr>\n",
       "    <tr>\n",
       "      <th>3</th>\n",
       "      <td>1981-82</td>\n",
       "      <td>Reagan</td>\n",
       "      <td>R</td>\n",
       "      <td>243</td>\n",
       "      <td>192</td>\n",
       "      <td>0</td>\n",
       "      <td>47.0</td>\n",
       "      <td>53</td>\n",
       "      <td>0.0</td>\n",
       "      <td>divided (HR)</td>\n",
       "    </tr>\n",
       "    <tr>\n",
       "      <th>4</th>\n",
       "      <td>1983-84</td>\n",
       "      <td>Reagan</td>\n",
       "      <td>R</td>\n",
       "      <td>269</td>\n",
       "      <td>166</td>\n",
       "      <td>0</td>\n",
       "      <td>46.0</td>\n",
       "      <td>54</td>\n",
       "      <td>0.0</td>\n",
       "      <td>divided (HR)</td>\n",
       "    </tr>\n",
       "    <tr>\n",
       "      <th>5</th>\n",
       "      <td>1985-86</td>\n",
       "      <td>Reagan</td>\n",
       "      <td>R</td>\n",
       "      <td>253</td>\n",
       "      <td>182</td>\n",
       "      <td>0</td>\n",
       "      <td>47.0</td>\n",
       "      <td>53</td>\n",
       "      <td>0.0</td>\n",
       "      <td>divided (HR)</td>\n",
       "    </tr>\n",
       "    <tr>\n",
       "      <th>6</th>\n",
       "      <td>1987-88</td>\n",
       "      <td>Reagan</td>\n",
       "      <td>R</td>\n",
       "      <td>258</td>\n",
       "      <td>177</td>\n",
       "      <td>0</td>\n",
       "      <td>55.0</td>\n",
       "      <td>45</td>\n",
       "      <td>0.0</td>\n",
       "      <td>divided</td>\n",
       "    </tr>\n",
       "    <tr>\n",
       "      <th>7</th>\n",
       "      <td>1989-90</td>\n",
       "      <td>Bush, GHW</td>\n",
       "      <td>R</td>\n",
       "      <td>260</td>\n",
       "      <td>175</td>\n",
       "      <td>0</td>\n",
       "      <td>55.0</td>\n",
       "      <td>45</td>\n",
       "      <td>0.0</td>\n",
       "      <td>divided</td>\n",
       "    </tr>\n",
       "    <tr>\n",
       "      <th>8</th>\n",
       "      <td>1991-92</td>\n",
       "      <td>Bush</td>\n",
       "      <td>R</td>\n",
       "      <td>267</td>\n",
       "      <td>167</td>\n",
       "      <td>1</td>\n",
       "      <td>56.0</td>\n",
       "      <td>44</td>\n",
       "      <td>0.0</td>\n",
       "      <td>divided</td>\n",
       "    </tr>\n",
       "    <tr>\n",
       "      <th>9</th>\n",
       "      <td>1993-94</td>\n",
       "      <td>Clinton</td>\n",
       "      <td>D</td>\n",
       "      <td>258</td>\n",
       "      <td>176</td>\n",
       "      <td>1</td>\n",
       "      <td>57.0</td>\n",
       "      <td>43</td>\n",
       "      <td>0.0</td>\n",
       "      <td>unified</td>\n",
       "    </tr>\n",
       "    <tr>\n",
       "      <th>10</th>\n",
       "      <td>1995-96</td>\n",
       "      <td>Clinton</td>\n",
       "      <td>D</td>\n",
       "      <td>202</td>\n",
       "      <td>232</td>\n",
       "      <td>1</td>\n",
       "      <td>46.0</td>\n",
       "      <td>54</td>\n",
       "      <td>0.0</td>\n",
       "      <td>divided</td>\n",
       "    </tr>\n",
       "    <tr>\n",
       "      <th>11</th>\n",
       "      <td>1997-98</td>\n",
       "      <td>Clinton</td>\n",
       "      <td>D</td>\n",
       "      <td>206</td>\n",
       "      <td>228</td>\n",
       "      <td>1</td>\n",
       "      <td>45.0</td>\n",
       "      <td>55</td>\n",
       "      <td>0.0</td>\n",
       "      <td>divided</td>\n",
       "    </tr>\n",
       "    <tr>\n",
       "      <th>12</th>\n",
       "      <td>1999-2000</td>\n",
       "      <td>Clinton</td>\n",
       "      <td>D</td>\n",
       "      <td>211</td>\n",
       "      <td>223</td>\n",
       "      <td>1</td>\n",
       "      <td>45.0</td>\n",
       "      <td>55</td>\n",
       "      <td>0.0</td>\n",
       "      <td>divided</td>\n",
       "    </tr>\n",
       "    <tr>\n",
       "      <th>13</th>\n",
       "      <td>2001-02</td>\n",
       "      <td>Bush, GW</td>\n",
       "      <td>R</td>\n",
       "      <td>212</td>\n",
       "      <td>221</td>\n",
       "      <td>2</td>\n",
       "      <td>50.0</td>\n",
       "      <td>49*</td>\n",
       "      <td>1.0</td>\n",
       "      <td>divided</td>\n",
       "    </tr>\n",
       "    <tr>\n",
       "      <th>14</th>\n",
       "      <td>2003-04</td>\n",
       "      <td>Bush, GW</td>\n",
       "      <td>R</td>\n",
       "      <td>204</td>\n",
       "      <td>228</td>\n",
       "      <td>3</td>\n",
       "      <td>48.0</td>\n",
       "      <td>51</td>\n",
       "      <td>1.0</td>\n",
       "      <td>unified</td>\n",
       "    </tr>\n",
       "    <tr>\n",
       "      <th>15</th>\n",
       "      <td>2005-06</td>\n",
       "      <td>Bush, GW</td>\n",
       "      <td>R</td>\n",
       "      <td>200</td>\n",
       "      <td>234</td>\n",
       "      <td>1</td>\n",
       "      <td>45.0</td>\n",
       "      <td>55</td>\n",
       "      <td>0.0</td>\n",
       "      <td>unified</td>\n",
       "    </tr>\n",
       "    <tr>\n",
       "      <th>16</th>\n",
       "      <td>2007-08</td>\n",
       "      <td>Bush, GW</td>\n",
       "      <td>R</td>\n",
       "      <td>231</td>\n",
       "      <td>204</td>\n",
       "      <td>0</td>\n",
       "      <td>51.0</td>\n",
       "      <td>49</td>\n",
       "      <td>0.0</td>\n",
       "      <td>divided</td>\n",
       "    </tr>\n",
       "    <tr>\n",
       "      <th>17</th>\n",
       "      <td>2009-10</td>\n",
       "      <td>Obama</td>\n",
       "      <td>D</td>\n",
       "      <td>257</td>\n",
       "      <td>178</td>\n",
       "      <td>0</td>\n",
       "      <td>60.0</td>\n",
       "      <td>40</td>\n",
       "      <td>0.0</td>\n",
       "      <td>unified</td>\n",
       "    </tr>\n",
       "  </tbody>\n",
       "</table>\n",
       "</div>"
      ],
      "text/plain": [
       "        years  president party_president house_dem_seats house_rep_seats  \\\n",
       "0     1975-76       Ford               R             291             144   \n",
       "1     1977-78     Carter               D             292             143   \n",
       "2     1979-80     Carter               D             277             158   \n",
       "3     1981-82     Reagan               R             243             192   \n",
       "4     1983-84     Reagan               R             269             166   \n",
       "5     1985-86     Reagan               R             253             182   \n",
       "6     1987-88     Reagan               R             258             177   \n",
       "7     1989-90  Bush, GHW               R             260             175   \n",
       "8     1991-92       Bush               R             267             167   \n",
       "9     1993-94    Clinton               D             258             176   \n",
       "10    1995-96    Clinton               D             202             232   \n",
       "11    1997-98    Clinton               D             206             228   \n",
       "12  1999-2000    Clinton               D             211             223   \n",
       "13    2001-02   Bush, GW               R             212             221   \n",
       "14    2003-04   Bush, GW               R             204             228   \n",
       "15    2005-06   Bush, GW               R             200             234   \n",
       "16    2007-08   Bush, GW               R             231             204   \n",
       "17    2009-10      Obama               D             257             178   \n",
       "\n",
       "   house_other_seats  senate_dem_seats senate_rep_seats  senate_other_seats  \\\n",
       "0                  0              61.0               38                 1.0   \n",
       "1                  0              62.0               38                 0.0   \n",
       "2                  0              59.0               41                 0.0   \n",
       "3                  0              47.0               53                 0.0   \n",
       "4                  0              46.0               54                 0.0   \n",
       "5                  0              47.0               53                 0.0   \n",
       "6                  0              55.0               45                 0.0   \n",
       "7                  0              55.0               45                 0.0   \n",
       "8                  1              56.0               44                 0.0   \n",
       "9                  1              57.0               43                 0.0   \n",
       "10                 1              46.0               54                 0.0   \n",
       "11                 1              45.0               55                 0.0   \n",
       "12                 1              45.0               55                 0.0   \n",
       "13                 2              50.0              49*                 1.0   \n",
       "14                 3              48.0               51                 1.0   \n",
       "15                 1              45.0               55                 0.0   \n",
       "16                 0              51.0               49                 0.0   \n",
       "17                 0              60.0               40                 0.0   \n",
       "\n",
       "      gov_status  \n",
       "0        divided  \n",
       "1        unified  \n",
       "2        unified  \n",
       "3   divided (HR)  \n",
       "4   divided (HR)  \n",
       "5   divided (HR)  \n",
       "6        divided  \n",
       "7        divided  \n",
       "8        divided  \n",
       "9        unified  \n",
       "10       divided  \n",
       "11       divided  \n",
       "12       divided  \n",
       "13       divided  \n",
       "14       unified  \n",
       "15       unified  \n",
       "16       divided  \n",
       "17       unified  "
      ]
     },
     "execution_count": 75,
     "metadata": {},
     "output_type": "execute_result"
    }
   ],
   "source": [
    "# resetting dataframe index \n",
    "party_with_headers.reset_index(drop=True)"
   ]
  },
  {
   "cell_type": "code",
   "execution_count": 76,
   "metadata": {},
   "outputs": [
    {
     "data": {
      "text/plain": [
       "False"
      ]
     },
     "execution_count": 76,
     "metadata": {},
     "output_type": "execute_result"
    }
   ],
   "source": [
    "# checking if there is any NaN value left in the dataframe \n",
    "party_with_headers.isnull().values.any()"
   ]
  },
  {
   "cell_type": "code",
   "execution_count": 77,
   "metadata": {},
   "outputs": [
    {
     "data": {
      "text/plain": [
       "years                  object\n",
       "president              object\n",
       "party_president        object\n",
       "house_dem_seats        object\n",
       "house_rep_seats        object\n",
       "house_other_seats      object\n",
       "senate_dem_seats      float64\n",
       "senate_rep_seats       object\n",
       "senate_other_seats    float64\n",
       "gov_status             object\n",
       "dtype: object"
      ]
     },
     "execution_count": 77,
     "metadata": {},
     "output_type": "execute_result"
    }
   ],
   "source": [
    "# looking up types of columns in the dataframe\n",
    "party_with_headers.dtypes"
   ]
  },
  {
   "cell_type": "code",
   "execution_count": 78,
   "metadata": {},
   "outputs": [],
   "source": [
    "# create a copy of dataframe to change types\n",
    "party_df_types = party_with_headers"
   ]
  },
  {
   "cell_type": "code",
   "execution_count": 79,
   "metadata": {},
   "outputs": [],
   "source": [
    "# Converting three series to numerics\n",
    "party_df_types['house_dem_seats'] = pd.to_numeric(party_df_types['house_dem_seats'])\n",
    "party_df_types['house_rep_seats'] = pd.to_numeric(party_df_types['house_rep_seats'])\n",
    "party_df_types['house_other_seats'] = pd.to_numeric(party_df_types['house_other_seats'])"
   ]
  },
  {
   "cell_type": "code",
   "execution_count": 80,
   "metadata": {},
   "outputs": [
    {
     "data": {
      "text/plain": [
       "years                  object\n",
       "president              object\n",
       "party_president        object\n",
       "house_dem_seats         int64\n",
       "house_rep_seats         int64\n",
       "house_other_seats       int64\n",
       "senate_dem_seats      float64\n",
       "senate_rep_seats       object\n",
       "senate_other_seats    float64\n",
       "gov_status             object\n",
       "dtype: object"
      ]
     },
     "execution_count": 80,
     "metadata": {},
     "output_type": "execute_result"
    }
   ],
   "source": [
    "party_df_types.dtypes"
   ]
  },
  {
   "cell_type": "markdown",
   "metadata": {},
   "source": [
    "##### 'senate_rep_seats' cannot be changed to float or int yet because of the value '49*'"
   ]
  },
  {
   "cell_type": "code",
   "execution_count": 81,
   "metadata": {},
   "outputs": [
    {
     "name": "stderr",
     "output_type": "stream",
     "text": [
      "/Users/ahmedacheikh/anaconda3/lib/python3.6/site-packages/pandas/core/indexing.py:189: SettingWithCopyWarning: \n",
      "A value is trying to be set on a copy of a slice from a DataFrame\n",
      "\n",
      "See the caveats in the documentation: http://pandas.pydata.org/pandas-docs/stable/indexing.html#indexing-view-versus-copy\n",
      "  self._setitem_with_indexer(indexer, value)\n"
     ]
    }
   ],
   "source": [
    "# using .loc to locate the \"49*\" value and changing it to '49'\n",
    "party_df_types['senate_rep_seats'].loc[party_df_types['senate_rep_seats'] == \"49*\"] = '49'"
   ]
  },
  {
   "cell_type": "code",
   "execution_count": 82,
   "metadata": {},
   "outputs": [],
   "source": [
    "party_df_types['senate_rep_seats'] = pd.to_numeric(party_df_types['senate_rep_seats'])"
   ]
  },
  {
   "cell_type": "code",
   "execution_count": 83,
   "metadata": {},
   "outputs": [
    {
     "data": {
      "text/plain": [
       "years                  object\n",
       "president              object\n",
       "party_president        object\n",
       "house_dem_seats         int64\n",
       "house_rep_seats         int64\n",
       "house_other_seats       int64\n",
       "senate_dem_seats      float64\n",
       "senate_rep_seats        int64\n",
       "senate_other_seats    float64\n",
       "gov_status             object\n",
       "dtype: object"
      ]
     },
     "execution_count": 83,
     "metadata": {},
     "output_type": "execute_result"
    }
   ],
   "source": [
    "party_df_types.dtypes"
   ]
  },
  {
   "cell_type": "code",
   "execution_count": 161,
   "metadata": {},
   "outputs": [
    {
     "data": {
      "text/html": [
       "<div>\n",
       "<style scoped>\n",
       "    .dataframe tbody tr th:only-of-type {\n",
       "        vertical-align: middle;\n",
       "    }\n",
       "\n",
       "    .dataframe tbody tr th {\n",
       "        vertical-align: top;\n",
       "    }\n",
       "\n",
       "    .dataframe thead th {\n",
       "        text-align: right;\n",
       "    }\n",
       "</style>\n",
       "<table border=\"1\" class=\"dataframe\">\n",
       "  <thead>\n",
       "    <tr style=\"text-align: right;\">\n",
       "      <th></th>\n",
       "      <th>years</th>\n",
       "      <th>president</th>\n",
       "      <th>party_president</th>\n",
       "      <th>house_dem_seats</th>\n",
       "      <th>house_rep_seats</th>\n",
       "      <th>house_other_seats</th>\n",
       "      <th>senate_dem_seats</th>\n",
       "      <th>senate_rep_seats</th>\n",
       "      <th>senate_other_seats</th>\n",
       "      <th>gov_status</th>\n",
       "      <th>term_start</th>\n",
       "      <th>term_end</th>\n",
       "    </tr>\n",
       "  </thead>\n",
       "  <tbody>\n",
       "    <tr>\n",
       "      <th>0</th>\n",
       "      <td>1975-76</td>\n",
       "      <td>Ford</td>\n",
       "      <td>R</td>\n",
       "      <td>291</td>\n",
       "      <td>144</td>\n",
       "      <td>0</td>\n",
       "      <td>61.0</td>\n",
       "      <td>38</td>\n",
       "      <td>1.0</td>\n",
       "      <td>divided</td>\n",
       "      <td>1975</td>\n",
       "      <td>1976</td>\n",
       "    </tr>\n",
       "    <tr>\n",
       "      <th>1</th>\n",
       "      <td>1977-78</td>\n",
       "      <td>Carter</td>\n",
       "      <td>D</td>\n",
       "      <td>292</td>\n",
       "      <td>143</td>\n",
       "      <td>0</td>\n",
       "      <td>62.0</td>\n",
       "      <td>38</td>\n",
       "      <td>0.0</td>\n",
       "      <td>unified</td>\n",
       "      <td>1977</td>\n",
       "      <td>1978</td>\n",
       "    </tr>\n",
       "    <tr>\n",
       "      <th>2</th>\n",
       "      <td>1979-80</td>\n",
       "      <td>Carter</td>\n",
       "      <td>D</td>\n",
       "      <td>277</td>\n",
       "      <td>158</td>\n",
       "      <td>0</td>\n",
       "      <td>59.0</td>\n",
       "      <td>41</td>\n",
       "      <td>0.0</td>\n",
       "      <td>unified</td>\n",
       "      <td>1979</td>\n",
       "      <td>1980</td>\n",
       "    </tr>\n",
       "    <tr>\n",
       "      <th>3</th>\n",
       "      <td>1981-82</td>\n",
       "      <td>Reagan</td>\n",
       "      <td>R</td>\n",
       "      <td>243</td>\n",
       "      <td>192</td>\n",
       "      <td>0</td>\n",
       "      <td>47.0</td>\n",
       "      <td>53</td>\n",
       "      <td>0.0</td>\n",
       "      <td>divided (HR)</td>\n",
       "      <td>1981</td>\n",
       "      <td>1982</td>\n",
       "    </tr>\n",
       "    <tr>\n",
       "      <th>4</th>\n",
       "      <td>1983-84</td>\n",
       "      <td>Reagan</td>\n",
       "      <td>R</td>\n",
       "      <td>269</td>\n",
       "      <td>166</td>\n",
       "      <td>0</td>\n",
       "      <td>46.0</td>\n",
       "      <td>54</td>\n",
       "      <td>0.0</td>\n",
       "      <td>divided (HR)</td>\n",
       "      <td>1983</td>\n",
       "      <td>1984</td>\n",
       "    </tr>\n",
       "  </tbody>\n",
       "</table>\n",
       "</div>"
      ],
      "text/plain": [
       "     years president party_president  house_dem_seats  house_rep_seats  \\\n",
       "0  1975-76      Ford               R              291              144   \n",
       "1  1977-78    Carter               D              292              143   \n",
       "2  1979-80    Carter               D              277              158   \n",
       "3  1981-82    Reagan               R              243              192   \n",
       "4  1983-84    Reagan               R              269              166   \n",
       "\n",
       "   house_other_seats  senate_dem_seats  senate_rep_seats  senate_other_seats  \\\n",
       "0                  0              61.0                38                 1.0   \n",
       "1                  0              62.0                38                 0.0   \n",
       "2                  0              59.0                41                 0.0   \n",
       "3                  0              47.0                53                 0.0   \n",
       "4                  0              46.0                54                 0.0   \n",
       "\n",
       "     gov_status term_start term_end  \n",
       "0       divided       1975     1976  \n",
       "1       unified       1977     1978  \n",
       "2       unified       1979     1980  \n",
       "3  divided (HR)       1981     1982  \n",
       "4  divided (HR)       1983     1984  "
      ]
     },
     "execution_count": 161,
     "metadata": {},
     "output_type": "execute_result"
    }
   ],
   "source": [
    "# resetting index again just because anaconda is confused\n",
    "party_df_types.reset_index(drop=True).head()"
   ]
  },
  {
   "cell_type": "code",
   "execution_count": 160,
   "metadata": {},
   "outputs": [
    {
     "data": {
      "text/html": [
       "<div>\n",
       "<style scoped>\n",
       "    .dataframe tbody tr th:only-of-type {\n",
       "        vertical-align: middle;\n",
       "    }\n",
       "\n",
       "    .dataframe tbody tr th {\n",
       "        vertical-align: top;\n",
       "    }\n",
       "\n",
       "    .dataframe thead th {\n",
       "        text-align: right;\n",
       "    }\n",
       "</style>\n",
       "<table border=\"1\" class=\"dataframe\">\n",
       "  <thead>\n",
       "    <tr style=\"text-align: right;\">\n",
       "      <th></th>\n",
       "      <th>years</th>\n",
       "      <th>president</th>\n",
       "      <th>party_president</th>\n",
       "      <th>house_dem_seats</th>\n",
       "      <th>house_rep_seats</th>\n",
       "      <th>house_other_seats</th>\n",
       "      <th>senate_dem_seats</th>\n",
       "      <th>senate_rep_seats</th>\n",
       "      <th>senate_other_seats</th>\n",
       "      <th>gov_status</th>\n",
       "      <th>term_start</th>\n",
       "      <th>term_end</th>\n",
       "    </tr>\n",
       "  </thead>\n",
       "  <tbody>\n",
       "    <tr>\n",
       "      <th>23</th>\n",
       "      <td>1975-76</td>\n",
       "      <td>Ford</td>\n",
       "      <td>R</td>\n",
       "      <td>291</td>\n",
       "      <td>144</td>\n",
       "      <td>0</td>\n",
       "      <td>61.0</td>\n",
       "      <td>38</td>\n",
       "      <td>1.0</td>\n",
       "      <td>divided</td>\n",
       "      <td>1975</td>\n",
       "      <td>1976</td>\n",
       "    </tr>\n",
       "    <tr>\n",
       "      <th>24</th>\n",
       "      <td>1977-78</td>\n",
       "      <td>Carter</td>\n",
       "      <td>D</td>\n",
       "      <td>292</td>\n",
       "      <td>143</td>\n",
       "      <td>0</td>\n",
       "      <td>62.0</td>\n",
       "      <td>38</td>\n",
       "      <td>0.0</td>\n",
       "      <td>unified</td>\n",
       "      <td>1977</td>\n",
       "      <td>1978</td>\n",
       "    </tr>\n",
       "    <tr>\n",
       "      <th>25</th>\n",
       "      <td>1979-80</td>\n",
       "      <td>Carter</td>\n",
       "      <td>D</td>\n",
       "      <td>277</td>\n",
       "      <td>158</td>\n",
       "      <td>0</td>\n",
       "      <td>59.0</td>\n",
       "      <td>41</td>\n",
       "      <td>0.0</td>\n",
       "      <td>unified</td>\n",
       "      <td>1979</td>\n",
       "      <td>1980</td>\n",
       "    </tr>\n",
       "    <tr>\n",
       "      <th>26</th>\n",
       "      <td>1981-82</td>\n",
       "      <td>Reagan</td>\n",
       "      <td>R</td>\n",
       "      <td>243</td>\n",
       "      <td>192</td>\n",
       "      <td>0</td>\n",
       "      <td>47.0</td>\n",
       "      <td>53</td>\n",
       "      <td>0.0</td>\n",
       "      <td>divided (HR)</td>\n",
       "      <td>1981</td>\n",
       "      <td>1982</td>\n",
       "    </tr>\n",
       "    <tr>\n",
       "      <th>27</th>\n",
       "      <td>1983-84</td>\n",
       "      <td>Reagan</td>\n",
       "      <td>R</td>\n",
       "      <td>269</td>\n",
       "      <td>166</td>\n",
       "      <td>0</td>\n",
       "      <td>46.0</td>\n",
       "      <td>54</td>\n",
       "      <td>0.0</td>\n",
       "      <td>divided (HR)</td>\n",
       "      <td>1983</td>\n",
       "      <td>1984</td>\n",
       "    </tr>\n",
       "  </tbody>\n",
       "</table>\n",
       "</div>"
      ],
      "text/plain": [
       "      years president party_president  house_dem_seats  house_rep_seats  \\\n",
       "23  1975-76      Ford               R              291              144   \n",
       "24  1977-78    Carter               D              292              143   \n",
       "25  1979-80    Carter               D              277              158   \n",
       "26  1981-82    Reagan               R              243              192   \n",
       "27  1983-84    Reagan               R              269              166   \n",
       "\n",
       "    house_other_seats  senate_dem_seats  senate_rep_seats  senate_other_seats  \\\n",
       "23                  0              61.0                38                 1.0   \n",
       "24                  0              62.0                38                 0.0   \n",
       "25                  0              59.0                41                 0.0   \n",
       "26                  0              47.0                53                 0.0   \n",
       "27                  0              46.0                54                 0.0   \n",
       "\n",
       "      gov_status term_start term_end  \n",
       "23       divided       1975     1976  \n",
       "24       unified       1977     1978  \n",
       "25       unified       1979     1980  \n",
       "26  divided (HR)       1981     1982  \n",
       "27  divided (HR)       1983     1984  "
      ]
     },
     "execution_count": 160,
     "metadata": {},
     "output_type": "execute_result"
    }
   ],
   "source": [
    "party_df_types[\"term_start\"] = party_df_types[\"years\"].str.slice(0,4,1)\n",
    "party_df_types\n",
    "\n",
    "party_df_types[\"term_end\"] = party_df_types[\"years\"].str.slice(0,2,1) + party_df_types[\"years\"].str.slice(5,7,1)\n",
    "party_df_types.head()"
   ]
  },
  {
   "cell_type": "markdown",
   "metadata": {},
   "source": [
    "##### President Trump Approval Ratings"
   ]
  },
  {
   "cell_type": "code",
   "execution_count": 87,
   "metadata": {},
   "outputs": [],
   "source": [
    "# url for President Trump approval ratings \n",
    "url_trump_gallup = \"https://news.gallup.com/poll/203198/presidential-approval-ratings-donald-trump.aspx\""
   ]
  },
  {
   "cell_type": "code",
   "execution_count": 88,
   "metadata": {},
   "outputs": [],
   "source": [
    "# Read the url\n",
    "list_trump_gallup = pd.read_html(url_trump_gallup)"
   ]
  },
  {
   "cell_type": "code",
   "execution_count": 146,
   "metadata": {},
   "outputs": [
    {
     "data": {
      "text/plain": [
       "MultiIndex(levels=[['Approve', 'Disapprove', 'No opinion', 'Unnamed: 0_level_0'], ['%', 'Unnamed: 0_level_1']],\n",
       "           labels=[[3, 0, 1, 2], [1, 0, 0, 0]])"
      ]
     },
     "execution_count": 146,
     "metadata": {},
     "output_type": "execute_result"
    }
   ],
   "source": [
    "trump_clean.columns"
   ]
  },
  {
   "cell_type": "code",
   "execution_count": 150,
   "metadata": {},
   "outputs": [],
   "source": [
    "# save the section in dataframe to clean \n",
    "trump_not_clean = list_trump_gallup[2]\n",
    "list_trump_del = [0,102]\n",
    "# getting rid of second row and last\n",
    "trump_clean = trump_not_clean.drop(trump_not_clean.index[list_trump_del])\n",
    "\n",
    "# drop one level of the multi index column headers\n",
    "trump_clean.columns = trump_clean.columns.droplevel()"
   ]
  },
  {
   "cell_type": "code",
   "execution_count": 154,
   "metadata": {},
   "outputs": [
    {
     "data": {
      "text/plain": [
       "Index(['Unnamed: 0_level_1', '%', '%', '%'], dtype='object')"
      ]
     },
     "execution_count": 154,
     "metadata": {},
     "output_type": "execute_result"
    }
   ],
   "source": [
    "# Column names\n",
    "trump_clean.columns"
   ]
  },
  {
   "cell_type": "code",
   "execution_count": 155,
   "metadata": {},
   "outputs": [
    {
     "data": {
      "text/html": [
       "<div>\n",
       "<style scoped>\n",
       "    .dataframe tbody tr th:only-of-type {\n",
       "        vertical-align: middle;\n",
       "    }\n",
       "\n",
       "    .dataframe tbody tr th {\n",
       "        vertical-align: top;\n",
       "    }\n",
       "\n",
       "    .dataframe thead th {\n",
       "        text-align: right;\n",
       "    }\n",
       "</style>\n",
       "<table border=\"1\" class=\"dataframe\">\n",
       "  <thead>\n",
       "    <tr style=\"text-align: right;\">\n",
       "      <th></th>\n",
       "      <th>Unnamed: 0_level_1</th>\n",
       "      <th>%</th>\n",
       "      <th>%</th>\n",
       "      <th>%</th>\n",
       "    </tr>\n",
       "  </thead>\n",
       "  <tbody>\n",
       "    <tr>\n",
       "      <th>1</th>\n",
       "      <td>2018 Dec 17-22</td>\n",
       "      <td>39</td>\n",
       "      <td>55</td>\n",
       "      <td>5</td>\n",
       "    </tr>\n",
       "    <tr>\n",
       "      <th>2</th>\n",
       "      <td>2018 Dec 10-16</td>\n",
       "      <td>38</td>\n",
       "      <td>57</td>\n",
       "      <td>4</td>\n",
       "    </tr>\n",
       "  </tbody>\n",
       "</table>\n",
       "</div>"
      ],
      "text/plain": [
       "  Unnamed: 0_level_1   %   %  %\n",
       "1     2018 Dec 17-22  39  55  5\n",
       "2     2018 Dec 10-16  38  57  4"
      ]
     },
     "execution_count": 155,
     "metadata": {},
     "output_type": "execute_result"
    }
   ],
   "source": [
    "trump_clean.head(2)"
   ]
  },
  {
   "cell_type": "code",
   "execution_count": 159,
   "metadata": {},
   "outputs": [
    {
     "data": {
      "text/html": [
       "<div>\n",
       "<style scoped>\n",
       "    .dataframe tbody tr th:only-of-type {\n",
       "        vertical-align: middle;\n",
       "    }\n",
       "\n",
       "    .dataframe tbody tr th {\n",
       "        vertical-align: top;\n",
       "    }\n",
       "\n",
       "    .dataframe thead th {\n",
       "        text-align: right;\n",
       "    }\n",
       "</style>\n",
       "<table border=\"1\" class=\"dataframe\">\n",
       "  <thead>\n",
       "    <tr style=\"text-align: right;\">\n",
       "      <th></th>\n",
       "      <th>weekly</th>\n",
       "      <th>no_opinion</th>\n",
       "      <th>no_opinion</th>\n",
       "      <th>no_opinion</th>\n",
       "    </tr>\n",
       "  </thead>\n",
       "  <tbody>\n",
       "    <tr>\n",
       "      <th>1</th>\n",
       "      <td>2018 Dec 17-22</td>\n",
       "      <td>39</td>\n",
       "      <td>55</td>\n",
       "      <td>5</td>\n",
       "    </tr>\n",
       "    <tr>\n",
       "      <th>2</th>\n",
       "      <td>2018 Dec 10-16</td>\n",
       "      <td>38</td>\n",
       "      <td>57</td>\n",
       "      <td>4</td>\n",
       "    </tr>\n",
       "    <tr>\n",
       "      <th>3</th>\n",
       "      <td>2018 Dec 3-9</td>\n",
       "      <td>40</td>\n",
       "      <td>56</td>\n",
       "      <td>4</td>\n",
       "    </tr>\n",
       "  </tbody>\n",
       "</table>\n",
       "</div>"
      ],
      "text/plain": [
       "           weekly no_opinion no_opinion no_opinion\n",
       "1  2018 Dec 17-22         39         55          5\n",
       "2  2018 Dec 10-16         38         57          4\n",
       "3    2018 Dec 3-9         40         56          4"
      ]
     },
     "execution_count": 159,
     "metadata": {},
     "output_type": "execute_result"
    }
   ],
   "source": [
    "# Renaming column headers\n",
    "trump_cleaner = trump_clean.rename(columns={\n",
    "    'Unnamed: 0_level_1': 'weekly', '%':'approve','%':'disapprove','%':'no_opinion'\n",
    "})\n",
    "\n",
    "trump_cleaner.head(3)"
   ]
  },
  {
   "cell_type": "markdown",
   "metadata": {},
   "source": [
    "##### Presidents Obama, Bush, Clinton, Bush Sen., Reagan, Carter, and Ford ratings"
   ]
  },
  {
   "cell_type": "code",
   "execution_count": 86,
   "metadata": {},
   "outputs": [],
   "source": [
    "# Getting presidential approval ratings dating back to President Ford except Trump. (not up to date for trump) \n",
    "# 'https://www.presidency.ucsb.edu/statistics/data/presidential-job-approval'"
   ]
  },
  {
   "cell_type": "code",
   "execution_count": 104,
   "metadata": {},
   "outputs": [],
   "source": [
    "# load presidential approval data paths \n",
    "obama_path = '../../obama.csv'\n",
    "bush_path = '../../bush.csv'\n",
    "clinton_path = '../../clinton.csv'\n",
    "bush_senior_path = '../../bush_senior.csv'\n",
    "reagan_path = '../../reagan.csv'\n",
    "carter_path = '../../carter.csv'\n",
    "ford_path = '../../ford.csv'"
   ]
  },
  {
   "cell_type": "code",
   "execution_count": 105,
   "metadata": {},
   "outputs": [],
   "source": [
    "# save them into dataframes \n",
    "obama_df = pd.read_csv(obama_path)\n",
    "bush_df = pd.read_csv(bush_path)\n",
    "clinton_df = pd.read_csv(clinton_path)\n",
    "bush_senior_df = pd.read_csv(bush_senior_path)\n",
    "reagan_df = pd.read_csv(reagan_path)\n",
    "carter_df = pd.read_csv(carter_path)\n",
    "ford_df = pd.read_csv(ford_path)"
   ]
  },
  {
   "cell_type": "markdown",
   "metadata": {},
   "source": [
    "##### Congress Approval"
   ]
  },
  {
   "cell_type": "code",
   "execution_count": 114,
   "metadata": {},
   "outputs": [],
   "source": [
    "# url for congress approval ratings\n",
    "url_congr = 'https://news.gallup.com/poll/1600/congress-public.aspx'"
   ]
  },
  {
   "cell_type": "code",
   "execution_count": 118,
   "metadata": {},
   "outputs": [],
   "source": [
    "# loading and saving congress' approval ratings into a dataframe \n",
    "list_congr = pd.read_html(url_congr)\n",
    "congress_df = list_congr[0]"
   ]
  }
 ],
 "metadata": {
  "kernelspec": {
   "display_name": "Python 3",
   "language": "python",
   "name": "python3"
  },
  "language_info": {
   "codemirror_mode": {
    "name": "ipython",
    "version": 3
   },
   "file_extension": ".py",
   "mimetype": "text/x-python",
   "name": "python",
   "nbconvert_exporter": "python",
   "pygments_lexer": "ipython3",
   "version": "3.6.5"
  }
 },
 "nbformat": 4,
 "nbformat_minor": 2
}
