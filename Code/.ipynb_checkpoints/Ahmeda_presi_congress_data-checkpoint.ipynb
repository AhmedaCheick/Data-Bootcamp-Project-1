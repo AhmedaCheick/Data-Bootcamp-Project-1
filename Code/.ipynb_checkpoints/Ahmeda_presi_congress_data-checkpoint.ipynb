{
 "cells": [
  {
   "cell_type": "markdown",
   "metadata": {},
   "source": [
    "### Cleaning Data"
   ]
  },
  {
   "cell_type": "code",
   "execution_count": 164,
   "metadata": {},
   "outputs": [],
   "source": [
    "import pandas as pd "
   ]
  },
  {
   "cell_type": "markdown",
   "metadata": {},
   "source": [
    "##### President and Congress 1975 through 2010"
   ]
  },
  {
   "cell_type": "code",
   "execution_count": 68,
   "metadata": {},
   "outputs": [],
   "source": [
    "# loading url of party control 1933-2010 from southeast missoury state univerity\n",
    "url_semo = 'http://cstl-cla.semo.edu/rdrenka/ui320-75/presandcongress.asp'"
   ]
  },
  {
   "cell_type": "code",
   "execution_count": 69,
   "metadata": {},
   "outputs": [],
   "source": [
    "# Creating a dataframe \n",
    "list_semo = pd.read_html(url_semo)\n",
    "\n",
    "# DataFrame\n",
    "df = list_semo[0]"
   ]
  },
  {
   "cell_type": "code",
   "execution_count": 70,
   "metadata": {},
   "outputs": [],
   "source": [
    "list_del = [0,1,41,42]"
   ]
  },
  {
   "cell_type": "code",
   "execution_count": 71,
   "metadata": {},
   "outputs": [],
   "source": [
    "# Create a list of range 2 to 22 inclusive \n",
    "list_range = list(range(2,23))"
   ]
  },
  {
   "cell_type": "code",
   "execution_count": 72,
   "metadata": {},
   "outputs": [],
   "source": [
    "# extend first list to the range list\n",
    "list_del.extend(list_range)"
   ]
  },
  {
   "cell_type": "code",
   "execution_count": 73,
   "metadata": {},
   "outputs": [],
   "source": [
    "# drop the indices in our dataframe using list_del list \n",
    "party_shutdown_df = df.drop(df.index[list_del])"
   ]
  },
  {
   "cell_type": "code",
   "execution_count": 74,
   "metadata": {},
   "outputs": [],
   "source": [
    "party_with_headers = party_shutdown_df.rename(columns={\n",
    "    0:\"years\",1:\"president\",2:\"party_president\",4:\"house_dem_seats\",5:\"house_rep_seats\",6:\"house_other_seats\",\n",
    "    7:\"senate_dem_seats\",8:\"senate_rep_seats\",9:\"senate_other_seats\",10:\"gov_status\"\n",
    "})\n",
    "\n",
    "# delete column with header '3'\n",
    "del party_with_headers[3]"
   ]
  },
  {
   "cell_type": "code",
   "execution_count": 163,
   "metadata": {},
   "outputs": [
    {
     "data": {
      "text/html": [
       "<div>\n",
       "<style scoped>\n",
       "    .dataframe tbody tr th:only-of-type {\n",
       "        vertical-align: middle;\n",
       "    }\n",
       "\n",
       "    .dataframe tbody tr th {\n",
       "        vertical-align: top;\n",
       "    }\n",
       "\n",
       "    .dataframe thead th {\n",
       "        text-align: right;\n",
       "    }\n",
       "</style>\n",
       "<table border=\"1\" class=\"dataframe\">\n",
       "  <thead>\n",
       "    <tr style=\"text-align: right;\">\n",
       "      <th></th>\n",
       "      <th>years</th>\n",
       "      <th>president</th>\n",
       "      <th>party_president</th>\n",
       "      <th>house_dem_seats</th>\n",
       "      <th>house_rep_seats</th>\n",
       "      <th>house_other_seats</th>\n",
       "      <th>senate_dem_seats</th>\n",
       "      <th>senate_rep_seats</th>\n",
       "      <th>senate_other_seats</th>\n",
       "      <th>gov_status</th>\n",
       "      <th>term_start</th>\n",
       "      <th>term_end</th>\n",
       "    </tr>\n",
       "  </thead>\n",
       "  <tbody>\n",
       "    <tr>\n",
       "      <th>0</th>\n",
       "      <td>1975-76</td>\n",
       "      <td>Ford</td>\n",
       "      <td>R</td>\n",
       "      <td>291</td>\n",
       "      <td>144</td>\n",
       "      <td>0</td>\n",
       "      <td>61.0</td>\n",
       "      <td>38</td>\n",
       "      <td>1.0</td>\n",
       "      <td>divided</td>\n",
       "      <td>1975</td>\n",
       "      <td>1976</td>\n",
       "    </tr>\n",
       "    <tr>\n",
       "      <th>1</th>\n",
       "      <td>1977-78</td>\n",
       "      <td>Carter</td>\n",
       "      <td>D</td>\n",
       "      <td>292</td>\n",
       "      <td>143</td>\n",
       "      <td>0</td>\n",
       "      <td>62.0</td>\n",
       "      <td>38</td>\n",
       "      <td>0.0</td>\n",
       "      <td>unified</td>\n",
       "      <td>1977</td>\n",
       "      <td>1978</td>\n",
       "    </tr>\n",
       "    <tr>\n",
       "      <th>2</th>\n",
       "      <td>1979-80</td>\n",
       "      <td>Carter</td>\n",
       "      <td>D</td>\n",
       "      <td>277</td>\n",
       "      <td>158</td>\n",
       "      <td>0</td>\n",
       "      <td>59.0</td>\n",
       "      <td>41</td>\n",
       "      <td>0.0</td>\n",
       "      <td>unified</td>\n",
       "      <td>1979</td>\n",
       "      <td>1980</td>\n",
       "    </tr>\n",
       "    <tr>\n",
       "      <th>3</th>\n",
       "      <td>1981-82</td>\n",
       "      <td>Reagan</td>\n",
       "      <td>R</td>\n",
       "      <td>243</td>\n",
       "      <td>192</td>\n",
       "      <td>0</td>\n",
       "      <td>47.0</td>\n",
       "      <td>53</td>\n",
       "      <td>0.0</td>\n",
       "      <td>divided (HR)</td>\n",
       "      <td>1981</td>\n",
       "      <td>1982</td>\n",
       "    </tr>\n",
       "    <tr>\n",
       "      <th>4</th>\n",
       "      <td>1983-84</td>\n",
       "      <td>Reagan</td>\n",
       "      <td>R</td>\n",
       "      <td>269</td>\n",
       "      <td>166</td>\n",
       "      <td>0</td>\n",
       "      <td>46.0</td>\n",
       "      <td>54</td>\n",
       "      <td>0.0</td>\n",
       "      <td>divided (HR)</td>\n",
       "      <td>1983</td>\n",
       "      <td>1984</td>\n",
       "    </tr>\n",
       "  </tbody>\n",
       "</table>\n",
       "</div>"
      ],
      "text/plain": [
       "     years president party_president  house_dem_seats  house_rep_seats  \\\n",
       "0  1975-76      Ford               R              291              144   \n",
       "1  1977-78    Carter               D              292              143   \n",
       "2  1979-80    Carter               D              277              158   \n",
       "3  1981-82    Reagan               R              243              192   \n",
       "4  1983-84    Reagan               R              269              166   \n",
       "\n",
       "   house_other_seats  senate_dem_seats  senate_rep_seats  senate_other_seats  \\\n",
       "0                  0              61.0                38                 1.0   \n",
       "1                  0              62.0                38                 0.0   \n",
       "2                  0              59.0                41                 0.0   \n",
       "3                  0              47.0                53                 0.0   \n",
       "4                  0              46.0                54                 0.0   \n",
       "\n",
       "     gov_status term_start term_end  \n",
       "0       divided       1975     1976  \n",
       "1       unified       1977     1978  \n",
       "2       unified       1979     1980  \n",
       "3  divided (HR)       1981     1982  \n",
       "4  divided (HR)       1983     1984  "
      ]
     },
     "execution_count": 163,
     "metadata": {},
     "output_type": "execute_result"
    }
   ],
   "source": [
    "# resetting dataframe index \n",
    "party_with_headers.reset_index(drop=True).head()"
   ]
  },
  {
   "cell_type": "code",
   "execution_count": 76,
   "metadata": {},
   "outputs": [
    {
     "data": {
      "text/plain": [
       "False"
      ]
     },
     "execution_count": 76,
     "metadata": {},
     "output_type": "execute_result"
    }
   ],
   "source": [
    "# checking if there is any NaN value left in the dataframe \n",
    "party_with_headers.isnull().values.any()"
   ]
  },
  {
   "cell_type": "code",
   "execution_count": 77,
   "metadata": {},
   "outputs": [
    {
     "data": {
      "text/plain": [
       "years                  object\n",
       "president              object\n",
       "party_president        object\n",
       "house_dem_seats        object\n",
       "house_rep_seats        object\n",
       "house_other_seats      object\n",
       "senate_dem_seats      float64\n",
       "senate_rep_seats       object\n",
       "senate_other_seats    float64\n",
       "gov_status             object\n",
       "dtype: object"
      ]
     },
     "execution_count": 77,
     "metadata": {},
     "output_type": "execute_result"
    }
   ],
   "source": [
    "# looking up types of columns in the dataframe\n",
    "party_with_headers.dtypes"
   ]
  },
  {
   "cell_type": "code",
   "execution_count": 78,
   "metadata": {},
   "outputs": [],
   "source": [
    "# create a copy of dataframe to change types\n",
    "party_df_types = party_with_headers"
   ]
  },
  {
   "cell_type": "code",
   "execution_count": 79,
   "metadata": {},
   "outputs": [],
   "source": [
    "# Converting three series to numerics\n",
    "party_df_types['house_dem_seats'] = pd.to_numeric(party_df_types['house_dem_seats'])\n",
    "party_df_types['house_rep_seats'] = pd.to_numeric(party_df_types['house_rep_seats'])\n",
    "party_df_types['house_other_seats'] = pd.to_numeric(party_df_types['house_other_seats'])"
   ]
  },
  {
   "cell_type": "code",
   "execution_count": 80,
   "metadata": {},
   "outputs": [
    {
     "data": {
      "text/plain": [
       "years                  object\n",
       "president              object\n",
       "party_president        object\n",
       "house_dem_seats         int64\n",
       "house_rep_seats         int64\n",
       "house_other_seats       int64\n",
       "senate_dem_seats      float64\n",
       "senate_rep_seats       object\n",
       "senate_other_seats    float64\n",
       "gov_status             object\n",
       "dtype: object"
      ]
     },
     "execution_count": 80,
     "metadata": {},
     "output_type": "execute_result"
    }
   ],
   "source": [
    "party_df_types.dtypes"
   ]
  },
  {
   "cell_type": "markdown",
   "metadata": {},
   "source": [
    "##### 'senate_rep_seats' cannot be changed to float or int yet because of the value '49*'"
   ]
  },
  {
   "cell_type": "code",
   "execution_count": 81,
   "metadata": {},
   "outputs": [
    {
     "name": "stderr",
     "output_type": "stream",
     "text": [
      "/Users/ahmedacheikh/anaconda3/lib/python3.6/site-packages/pandas/core/indexing.py:189: SettingWithCopyWarning: \n",
      "A value is trying to be set on a copy of a slice from a DataFrame\n",
      "\n",
      "See the caveats in the documentation: http://pandas.pydata.org/pandas-docs/stable/indexing.html#indexing-view-versus-copy\n",
      "  self._setitem_with_indexer(indexer, value)\n"
     ]
    }
   ],
   "source": [
    "# using .loc to locate the \"49*\" value and changing it to '49'\n",
    "party_df_types['senate_rep_seats'].loc[party_df_types['senate_rep_seats'] == \"49*\"] = '49'"
   ]
  },
  {
   "cell_type": "code",
   "execution_count": 82,
   "metadata": {},
   "outputs": [],
   "source": [
    "party_df_types['senate_rep_seats'] = pd.to_numeric(party_df_types['senate_rep_seats'])"
   ]
  },
  {
   "cell_type": "code",
   "execution_count": 83,
   "metadata": {},
   "outputs": [
    {
     "data": {
      "text/plain": [
       "years                  object\n",
       "president              object\n",
       "party_president        object\n",
       "house_dem_seats         int64\n",
       "house_rep_seats         int64\n",
       "house_other_seats       int64\n",
       "senate_dem_seats      float64\n",
       "senate_rep_seats        int64\n",
       "senate_other_seats    float64\n",
       "gov_status             object\n",
       "dtype: object"
      ]
     },
     "execution_count": 83,
     "metadata": {},
     "output_type": "execute_result"
    }
   ],
   "source": [
    "party_df_types.dtypes"
   ]
  },
  {
   "cell_type": "code",
   "execution_count": 161,
   "metadata": {},
   "outputs": [
    {
     "data": {
      "text/html": [
       "<div>\n",
       "<style scoped>\n",
       "    .dataframe tbody tr th:only-of-type {\n",
       "        vertical-align: middle;\n",
       "    }\n",
       "\n",
       "    .dataframe tbody tr th {\n",
       "        vertical-align: top;\n",
       "    }\n",
       "\n",
       "    .dataframe thead th {\n",
       "        text-align: right;\n",
       "    }\n",
       "</style>\n",
       "<table border=\"1\" class=\"dataframe\">\n",
       "  <thead>\n",
       "    <tr style=\"text-align: right;\">\n",
       "      <th></th>\n",
       "      <th>years</th>\n",
       "      <th>president</th>\n",
       "      <th>party_president</th>\n",
       "      <th>house_dem_seats</th>\n",
       "      <th>house_rep_seats</th>\n",
       "      <th>house_other_seats</th>\n",
       "      <th>senate_dem_seats</th>\n",
       "      <th>senate_rep_seats</th>\n",
       "      <th>senate_other_seats</th>\n",
       "      <th>gov_status</th>\n",
       "      <th>term_start</th>\n",
       "      <th>term_end</th>\n",
       "    </tr>\n",
       "  </thead>\n",
       "  <tbody>\n",
       "    <tr>\n",
       "      <th>0</th>\n",
       "      <td>1975-76</td>\n",
       "      <td>Ford</td>\n",
       "      <td>R</td>\n",
       "      <td>291</td>\n",
       "      <td>144</td>\n",
       "      <td>0</td>\n",
       "      <td>61.0</td>\n",
       "      <td>38</td>\n",
       "      <td>1.0</td>\n",
       "      <td>divided</td>\n",
       "      <td>1975</td>\n",
       "      <td>1976</td>\n",
       "    </tr>\n",
       "    <tr>\n",
       "      <th>1</th>\n",
       "      <td>1977-78</td>\n",
       "      <td>Carter</td>\n",
       "      <td>D</td>\n",
       "      <td>292</td>\n",
       "      <td>143</td>\n",
       "      <td>0</td>\n",
       "      <td>62.0</td>\n",
       "      <td>38</td>\n",
       "      <td>0.0</td>\n",
       "      <td>unified</td>\n",
       "      <td>1977</td>\n",
       "      <td>1978</td>\n",
       "    </tr>\n",
       "    <tr>\n",
       "      <th>2</th>\n",
       "      <td>1979-80</td>\n",
       "      <td>Carter</td>\n",
       "      <td>D</td>\n",
       "      <td>277</td>\n",
       "      <td>158</td>\n",
       "      <td>0</td>\n",
       "      <td>59.0</td>\n",
       "      <td>41</td>\n",
       "      <td>0.0</td>\n",
       "      <td>unified</td>\n",
       "      <td>1979</td>\n",
       "      <td>1980</td>\n",
       "    </tr>\n",
       "    <tr>\n",
       "      <th>3</th>\n",
       "      <td>1981-82</td>\n",
       "      <td>Reagan</td>\n",
       "      <td>R</td>\n",
       "      <td>243</td>\n",
       "      <td>192</td>\n",
       "      <td>0</td>\n",
       "      <td>47.0</td>\n",
       "      <td>53</td>\n",
       "      <td>0.0</td>\n",
       "      <td>divided (HR)</td>\n",
       "      <td>1981</td>\n",
       "      <td>1982</td>\n",
       "    </tr>\n",
       "    <tr>\n",
       "      <th>4</th>\n",
       "      <td>1983-84</td>\n",
       "      <td>Reagan</td>\n",
       "      <td>R</td>\n",
       "      <td>269</td>\n",
       "      <td>166</td>\n",
       "      <td>0</td>\n",
       "      <td>46.0</td>\n",
       "      <td>54</td>\n",
       "      <td>0.0</td>\n",
       "      <td>divided (HR)</td>\n",
       "      <td>1983</td>\n",
       "      <td>1984</td>\n",
       "    </tr>\n",
       "  </tbody>\n",
       "</table>\n",
       "</div>"
      ],
      "text/plain": [
       "     years president party_president  house_dem_seats  house_rep_seats  \\\n",
       "0  1975-76      Ford               R              291              144   \n",
       "1  1977-78    Carter               D              292              143   \n",
       "2  1979-80    Carter               D              277              158   \n",
       "3  1981-82    Reagan               R              243              192   \n",
       "4  1983-84    Reagan               R              269              166   \n",
       "\n",
       "   house_other_seats  senate_dem_seats  senate_rep_seats  senate_other_seats  \\\n",
       "0                  0              61.0                38                 1.0   \n",
       "1                  0              62.0                38                 0.0   \n",
       "2                  0              59.0                41                 0.0   \n",
       "3                  0              47.0                53                 0.0   \n",
       "4                  0              46.0                54                 0.0   \n",
       "\n",
       "     gov_status term_start term_end  \n",
       "0       divided       1975     1976  \n",
       "1       unified       1977     1978  \n",
       "2       unified       1979     1980  \n",
       "3  divided (HR)       1981     1982  \n",
       "4  divided (HR)       1983     1984  "
      ]
     },
     "execution_count": 161,
     "metadata": {},
     "output_type": "execute_result"
    }
   ],
   "source": [
    "# resetting index again just because anaconda is confused\n",
    "party_df_types.reset_index(drop=True).head()"
   ]
  },
  {
   "cell_type": "code",
   "execution_count": 160,
   "metadata": {},
   "outputs": [
    {
     "data": {
      "text/html": [
       "<div>\n",
       "<style scoped>\n",
       "    .dataframe tbody tr th:only-of-type {\n",
       "        vertical-align: middle;\n",
       "    }\n",
       "\n",
       "    .dataframe tbody tr th {\n",
       "        vertical-align: top;\n",
       "    }\n",
       "\n",
       "    .dataframe thead th {\n",
       "        text-align: right;\n",
       "    }\n",
       "</style>\n",
       "<table border=\"1\" class=\"dataframe\">\n",
       "  <thead>\n",
       "    <tr style=\"text-align: right;\">\n",
       "      <th></th>\n",
       "      <th>years</th>\n",
       "      <th>president</th>\n",
       "      <th>party_president</th>\n",
       "      <th>house_dem_seats</th>\n",
       "      <th>house_rep_seats</th>\n",
       "      <th>house_other_seats</th>\n",
       "      <th>senate_dem_seats</th>\n",
       "      <th>senate_rep_seats</th>\n",
       "      <th>senate_other_seats</th>\n",
       "      <th>gov_status</th>\n",
       "      <th>term_start</th>\n",
       "      <th>term_end</th>\n",
       "    </tr>\n",
       "  </thead>\n",
       "  <tbody>\n",
       "    <tr>\n",
       "      <th>23</th>\n",
       "      <td>1975-76</td>\n",
       "      <td>Ford</td>\n",
       "      <td>R</td>\n",
       "      <td>291</td>\n",
       "      <td>144</td>\n",
       "      <td>0</td>\n",
       "      <td>61.0</td>\n",
       "      <td>38</td>\n",
       "      <td>1.0</td>\n",
       "      <td>divided</td>\n",
       "      <td>1975</td>\n",
       "      <td>1976</td>\n",
       "    </tr>\n",
       "    <tr>\n",
       "      <th>24</th>\n",
       "      <td>1977-78</td>\n",
       "      <td>Carter</td>\n",
       "      <td>D</td>\n",
       "      <td>292</td>\n",
       "      <td>143</td>\n",
       "      <td>0</td>\n",
       "      <td>62.0</td>\n",
       "      <td>38</td>\n",
       "      <td>0.0</td>\n",
       "      <td>unified</td>\n",
       "      <td>1977</td>\n",
       "      <td>1978</td>\n",
       "    </tr>\n",
       "    <tr>\n",
       "      <th>25</th>\n",
       "      <td>1979-80</td>\n",
       "      <td>Carter</td>\n",
       "      <td>D</td>\n",
       "      <td>277</td>\n",
       "      <td>158</td>\n",
       "      <td>0</td>\n",
       "      <td>59.0</td>\n",
       "      <td>41</td>\n",
       "      <td>0.0</td>\n",
       "      <td>unified</td>\n",
       "      <td>1979</td>\n",
       "      <td>1980</td>\n",
       "    </tr>\n",
       "    <tr>\n",
       "      <th>26</th>\n",
       "      <td>1981-82</td>\n",
       "      <td>Reagan</td>\n",
       "      <td>R</td>\n",
       "      <td>243</td>\n",
       "      <td>192</td>\n",
       "      <td>0</td>\n",
       "      <td>47.0</td>\n",
       "      <td>53</td>\n",
       "      <td>0.0</td>\n",
       "      <td>divided (HR)</td>\n",
       "      <td>1981</td>\n",
       "      <td>1982</td>\n",
       "    </tr>\n",
       "    <tr>\n",
       "      <th>27</th>\n",
       "      <td>1983-84</td>\n",
       "      <td>Reagan</td>\n",
       "      <td>R</td>\n",
       "      <td>269</td>\n",
       "      <td>166</td>\n",
       "      <td>0</td>\n",
       "      <td>46.0</td>\n",
       "      <td>54</td>\n",
       "      <td>0.0</td>\n",
       "      <td>divided (HR)</td>\n",
       "      <td>1983</td>\n",
       "      <td>1984</td>\n",
       "    </tr>\n",
       "  </tbody>\n",
       "</table>\n",
       "</div>"
      ],
      "text/plain": [
       "      years president party_president  house_dem_seats  house_rep_seats  \\\n",
       "23  1975-76      Ford               R              291              144   \n",
       "24  1977-78    Carter               D              292              143   \n",
       "25  1979-80    Carter               D              277              158   \n",
       "26  1981-82    Reagan               R              243              192   \n",
       "27  1983-84    Reagan               R              269              166   \n",
       "\n",
       "    house_other_seats  senate_dem_seats  senate_rep_seats  senate_other_seats  \\\n",
       "23                  0              61.0                38                 1.0   \n",
       "24                  0              62.0                38                 0.0   \n",
       "25                  0              59.0                41                 0.0   \n",
       "26                  0              47.0                53                 0.0   \n",
       "27                  0              46.0                54                 0.0   \n",
       "\n",
       "      gov_status term_start term_end  \n",
       "23       divided       1975     1976  \n",
       "24       unified       1977     1978  \n",
       "25       unified       1979     1980  \n",
       "26  divided (HR)       1981     1982  \n",
       "27  divided (HR)       1983     1984  "
      ]
     },
     "execution_count": 160,
     "metadata": {},
     "output_type": "execute_result"
    }
   ],
   "source": [
    "party_df_types[\"term_start\"] = party_df_types[\"years\"].str.slice(0,4,1)\n",
    "party_df_types\n",
    "\n",
    "party_df_types[\"term_end\"] = party_df_types[\"years\"].str.slice(0,2,1) + party_df_types[\"years\"].str.slice(5,7,1)\n",
    "party_df_types.head()"
   ]
  },
  {
   "cell_type": "markdown",
   "metadata": {},
   "source": [
    "##### President Trump Approval Ratings"
   ]
  },
  {
   "cell_type": "code",
   "execution_count": 87,
   "metadata": {},
   "outputs": [],
   "source": [
    "# url for President Trump approval ratings \n",
    "url_trump_gallup = \"https://news.gallup.com/poll/203198/presidential-approval-ratings-donald-trump.aspx\""
   ]
  },
  {
   "cell_type": "code",
   "execution_count": 88,
   "metadata": {},
   "outputs": [],
   "source": [
    "# Read the url\n",
    "list_trump_gallup = pd.read_html(url_trump_gallup)"
   ]
  },
  {
   "cell_type": "code",
   "execution_count": 146,
   "metadata": {},
   "outputs": [
    {
     "data": {
      "text/plain": [
       "MultiIndex(levels=[['Approve', 'Disapprove', 'No opinion', 'Unnamed: 0_level_0'], ['%', 'Unnamed: 0_level_1']],\n",
       "           labels=[[3, 0, 1, 2], [1, 0, 0, 0]])"
      ]
     },
     "execution_count": 146,
     "metadata": {},
     "output_type": "execute_result"
    }
   ],
   "source": [
    "trump_clean.columns"
   ]
  },
  {
   "cell_type": "code",
   "execution_count": 150,
   "metadata": {},
   "outputs": [],
   "source": [
    "# save the section in dataframe to clean \n",
    "trump_not_clean = list_trump_gallup[2]\n",
    "list_trump_del = [0,102]\n",
    "# getting rid of second row and last\n",
    "trump_clean = trump_not_clean.drop(trump_not_clean.index[list_trump_del])"
   ]
  },
  {
   "cell_type": "code",
   "execution_count": null,
   "metadata": {},
   "outputs": [],
   "source": [
    "# drop one level of the multi index column headers\n",
    "trump_clean.columns = trump_clean.columns.droplevel()"
   ]
  },
  {
   "cell_type": "code",
   "execution_count": 154,
   "metadata": {},
   "outputs": [
    {
     "data": {
      "text/plain": [
       "Index(['Unnamed: 0_level_1', '%', '%', '%'], dtype='object')"
      ]
     },
     "execution_count": 154,
     "metadata": {},
     "output_type": "execute_result"
    }
   ],
   "source": [
    "# Column names\n",
    "trump_clean.columns"
   ]
  },
  {
   "cell_type": "code",
   "execution_count": 155,
   "metadata": {},
   "outputs": [
    {
     "data": {
      "text/html": [
       "<div>\n",
       "<style scoped>\n",
       "    .dataframe tbody tr th:only-of-type {\n",
       "        vertical-align: middle;\n",
       "    }\n",
       "\n",
       "    .dataframe tbody tr th {\n",
       "        vertical-align: top;\n",
       "    }\n",
       "\n",
       "    .dataframe thead th {\n",
       "        text-align: right;\n",
       "    }\n",
       "</style>\n",
       "<table border=\"1\" class=\"dataframe\">\n",
       "  <thead>\n",
       "    <tr style=\"text-align: right;\">\n",
       "      <th></th>\n",
       "      <th>Unnamed: 0_level_1</th>\n",
       "      <th>%</th>\n",
       "      <th>%</th>\n",
       "      <th>%</th>\n",
       "    </tr>\n",
       "  </thead>\n",
       "  <tbody>\n",
       "    <tr>\n",
       "      <th>1</th>\n",
       "      <td>2018 Dec 17-22</td>\n",
       "      <td>39</td>\n",
       "      <td>55</td>\n",
       "      <td>5</td>\n",
       "    </tr>\n",
       "    <tr>\n",
       "      <th>2</th>\n",
       "      <td>2018 Dec 10-16</td>\n",
       "      <td>38</td>\n",
       "      <td>57</td>\n",
       "      <td>4</td>\n",
       "    </tr>\n",
       "  </tbody>\n",
       "</table>\n",
       "</div>"
      ],
      "text/plain": [
       "  Unnamed: 0_level_1   %   %  %\n",
       "1     2018 Dec 17-22  39  55  5\n",
       "2     2018 Dec 10-16  38  57  4"
      ]
     },
     "execution_count": 155,
     "metadata": {},
     "output_type": "execute_result"
    }
   ],
   "source": [
    "trump_clean.head(2)"
   ]
  },
  {
   "cell_type": "code",
   "execution_count": 162,
   "metadata": {},
   "outputs": [
    {
     "data": {
      "text/html": [
       "<div>\n",
       "<style scoped>\n",
       "    .dataframe tbody tr th:only-of-type {\n",
       "        vertical-align: middle;\n",
       "    }\n",
       "\n",
       "    .dataframe tbody tr th {\n",
       "        vertical-align: top;\n",
       "    }\n",
       "\n",
       "    .dataframe thead th {\n",
       "        text-align: right;\n",
       "    }\n",
       "</style>\n",
       "<table border=\"1\" class=\"dataframe\">\n",
       "  <thead>\n",
       "    <tr style=\"text-align: right;\">\n",
       "      <th></th>\n",
       "      <th>weekly</th>\n",
       "      <th>no_opinion</th>\n",
       "      <th>no_opinion</th>\n",
       "      <th>no_opinion</th>\n",
       "    </tr>\n",
       "  </thead>\n",
       "  <tbody>\n",
       "    <tr>\n",
       "      <th>0</th>\n",
       "      <td>2018 Dec 17-22</td>\n",
       "      <td>39</td>\n",
       "      <td>55</td>\n",
       "      <td>5</td>\n",
       "    </tr>\n",
       "    <tr>\n",
       "      <th>1</th>\n",
       "      <td>2018 Dec 10-16</td>\n",
       "      <td>38</td>\n",
       "      <td>57</td>\n",
       "      <td>4</td>\n",
       "    </tr>\n",
       "    <tr>\n",
       "      <th>2</th>\n",
       "      <td>2018 Dec 3-9</td>\n",
       "      <td>40</td>\n",
       "      <td>56</td>\n",
       "      <td>4</td>\n",
       "    </tr>\n",
       "    <tr>\n",
       "      <th>3</th>\n",
       "      <td>2018 Nov 26-Dec 2</td>\n",
       "      <td>40</td>\n",
       "      <td>56</td>\n",
       "      <td>4</td>\n",
       "    </tr>\n",
       "    <tr>\n",
       "      <th>4</th>\n",
       "      <td>2018 Nov 19-25</td>\n",
       "      <td>38</td>\n",
       "      <td>60</td>\n",
       "      <td>3</td>\n",
       "    </tr>\n",
       "  </tbody>\n",
       "</table>\n",
       "</div>"
      ],
      "text/plain": [
       "              weekly no_opinion no_opinion no_opinion\n",
       "0     2018 Dec 17-22         39         55          5\n",
       "1     2018 Dec 10-16         38         57          4\n",
       "2       2018 Dec 3-9         40         56          4\n",
       "3  2018 Nov 26-Dec 2         40         56          4\n",
       "4     2018 Nov 19-25         38         60          3"
      ]
     },
     "execution_count": 162,
     "metadata": {},
     "output_type": "execute_result"
    }
   ],
   "source": [
    "# Renaming column headers\n",
    "trump_cleaner = trump_clean.rename(columns={\n",
    "    'Unnamed: 0_level_1': 'weekly', '%':'approve','%':'disapprove','%':'no_opinion'\n",
    "})\n",
    "\n",
    "trump_cleaner.reset_index(drop=True).head()"
   ]
  },
  {
   "cell_type": "markdown",
   "metadata": {},
   "source": [
    "##### Presidents Obama, Bush, Clinton, Bush Sen., Reagan, Carter, and Ford ratings"
   ]
  },
  {
   "cell_type": "code",
   "execution_count": 86,
   "metadata": {},
   "outputs": [],
   "source": [
    "# Getting presidential approval ratings dating back to President Ford except Trump. (not up to date for trump) \n",
    "# 'https://www.presidency.ucsb.edu/statistics/data/presidential-job-approval'"
   ]
  },
  {
   "cell_type": "code",
   "execution_count": 104,
   "metadata": {},
   "outputs": [],
   "source": [
    "# load presidential approval data paths \n",
    "obama_path = '../../obama.csv'\n",
    "bush_path = '../../bush.csv'\n",
    "clinton_path = '../../clinton.csv'\n",
    "bush_senior_path = '../../bush_senior.csv'\n",
    "reagan_path = '../../reagan.csv'\n",
    "carter_path = '../../carter.csv'\n",
    "ford_path = '../../ford.csv'"
   ]
  },
  {
   "cell_type": "code",
   "execution_count": 105,
   "metadata": {},
   "outputs": [],
   "source": [
    "# save them into dataframes \n",
    "obama_df = pd.read_csv(obama_path)\n",
    "bush_df = pd.read_csv(bush_path)\n",
    "clinton_df = pd.read_csv(clinton_path)\n",
    "bush_senior_df = pd.read_csv(bush_senior_path)\n",
    "reagan_df = pd.read_csv(reagan_path)\n",
    "carter_df = pd.read_csv(carter_path)\n",
    "ford_df = pd.read_csv(ford_path)"
   ]
  },
  {
   "cell_type": "markdown",
   "metadata": {},
   "source": [
    "##### Congress Approval"
   ]
  },
  {
   "cell_type": "code",
   "execution_count": 197,
   "metadata": {},
   "outputs": [],
   "source": [
    "# url for congress approval ratings\n",
    "url_congr = 'https://news.gallup.com/poll/1600/congress-public.aspx'"
   ]
  },
  {
   "cell_type": "code",
   "execution_count": 198,
   "metadata": {},
   "outputs": [],
   "source": [
    "# loading and saving congress' approval ratings into a dataframe \n",
    "list_congr = pd.read_html(url_congr)\n",
    "congress_df = list_congr[0]"
   ]
  },
  {
   "cell_type": "code",
   "execution_count": 199,
   "metadata": {},
   "outputs": [
    {
     "data": {
      "text/html": [
       "<div>\n",
       "<style scoped>\n",
       "    .dataframe tbody tr th:only-of-type {\n",
       "        vertical-align: middle;\n",
       "    }\n",
       "\n",
       "    .dataframe tbody tr th {\n",
       "        vertical-align: top;\n",
       "    }\n",
       "\n",
       "    .dataframe thead tr th {\n",
       "        text-align: left;\n",
       "    }\n",
       "</style>\n",
       "<table border=\"1\" class=\"dataframe\">\n",
       "  <thead>\n",
       "    <tr>\n",
       "      <th></th>\n",
       "      <th>Unnamed: 0_level_0</th>\n",
       "      <th>Approve</th>\n",
       "      <th>Disapprove</th>\n",
       "      <th>No opinion</th>\n",
       "      <th>Unnamed: 4_level_0</th>\n",
       "      <th>Unnamed: 5_level_0</th>\n",
       "      <th>Unnamed: 6_level_0</th>\n",
       "      <th>Unnamed: 7_level_0</th>\n",
       "      <th>Unnamed: 8_level_0</th>\n",
       "      <th>Unnamed: 9_level_0</th>\n",
       "      <th>...</th>\n",
       "      <th>Unnamed: 33_level_0</th>\n",
       "      <th>Unnamed: 34_level_0</th>\n",
       "      <th>Unnamed: 35_level_0</th>\n",
       "      <th>Unnamed: 36_level_0</th>\n",
       "      <th>Unnamed: 37_level_0</th>\n",
       "      <th>Unnamed: 38_level_0</th>\n",
       "      <th>Unnamed: 39_level_0</th>\n",
       "      <th>Unnamed: 40_level_0</th>\n",
       "      <th>Unnamed: 41_level_0</th>\n",
       "      <th>Unnamed: 42_level_0</th>\n",
       "    </tr>\n",
       "    <tr>\n",
       "      <th></th>\n",
       "      <th>Unnamed: 0_level_1</th>\n",
       "      <th>%</th>\n",
       "      <th>%</th>\n",
       "      <th>%</th>\n",
       "      <th>Unnamed: 4_level_1</th>\n",
       "      <th>Unnamed: 5_level_1</th>\n",
       "      <th>Unnamed: 6_level_1</th>\n",
       "      <th>Unnamed: 7_level_1</th>\n",
       "      <th>Unnamed: 8_level_1</th>\n",
       "      <th>Unnamed: 9_level_1</th>\n",
       "      <th>...</th>\n",
       "      <th>Unnamed: 33_level_1</th>\n",
       "      <th>Unnamed: 34_level_1</th>\n",
       "      <th>Unnamed: 35_level_1</th>\n",
       "      <th>Unnamed: 36_level_1</th>\n",
       "      <th>Unnamed: 37_level_1</th>\n",
       "      <th>Unnamed: 38_level_1</th>\n",
       "      <th>Unnamed: 39_level_1</th>\n",
       "      <th>Unnamed: 40_level_1</th>\n",
       "      <th>Unnamed: 41_level_1</th>\n",
       "      <th>Unnamed: 42_level_1</th>\n",
       "    </tr>\n",
       "  </thead>\n",
       "  <tbody>\n",
       "    <tr>\n",
       "      <th>0</th>\n",
       "      <td>2018 Dec 3-12</td>\n",
       "      <td>18</td>\n",
       "      <td>75</td>\n",
       "      <td>7</td>\n",
       "      <td>NaN</td>\n",
       "      <td>NaN</td>\n",
       "      <td>NaN</td>\n",
       "      <td>NaN</td>\n",
       "      <td>NaN</td>\n",
       "      <td>NaN</td>\n",
       "      <td>...</td>\n",
       "      <td>NaN</td>\n",
       "      <td>NaN</td>\n",
       "      <td>NaN</td>\n",
       "      <td>NaN</td>\n",
       "      <td>NaN</td>\n",
       "      <td>NaN</td>\n",
       "      <td>NaN</td>\n",
       "      <td>NaN</td>\n",
       "      <td>NaN</td>\n",
       "      <td>NaN</td>\n",
       "    </tr>\n",
       "    <tr>\n",
       "      <th>1</th>\n",
       "      <td>2018 Nov 1-11</td>\n",
       "      <td>21</td>\n",
       "      <td>74</td>\n",
       "      <td>5</td>\n",
       "      <td>NaN</td>\n",
       "      <td>NaN</td>\n",
       "      <td>NaN</td>\n",
       "      <td>NaN</td>\n",
       "      <td>NaN</td>\n",
       "      <td>NaN</td>\n",
       "      <td>...</td>\n",
       "      <td>NaN</td>\n",
       "      <td>NaN</td>\n",
       "      <td>NaN</td>\n",
       "      <td>NaN</td>\n",
       "      <td>NaN</td>\n",
       "      <td>NaN</td>\n",
       "      <td>NaN</td>\n",
       "      <td>NaN</td>\n",
       "      <td>NaN</td>\n",
       "      <td>NaN</td>\n",
       "    </tr>\n",
       "  </tbody>\n",
       "</table>\n",
       "<p>2 rows × 43 columns</p>\n",
       "</div>"
      ],
      "text/plain": [
       "  Unnamed: 0_level_0 Approve Disapprove No opinion Unnamed: 4_level_0  \\\n",
       "  Unnamed: 0_level_1       %          %          % Unnamed: 4_level_1   \n",
       "0      2018 Dec 3-12      18         75          7                NaN   \n",
       "1      2018 Nov 1-11      21         74          5                NaN   \n",
       "\n",
       "  Unnamed: 5_level_0 Unnamed: 6_level_0 Unnamed: 7_level_0 Unnamed: 8_level_0  \\\n",
       "  Unnamed: 5_level_1 Unnamed: 6_level_1 Unnamed: 7_level_1 Unnamed: 8_level_1   \n",
       "0                NaN                NaN                NaN                NaN   \n",
       "1                NaN                NaN                NaN                NaN   \n",
       "\n",
       "  Unnamed: 9_level_0         ...         Unnamed: 33_level_0  \\\n",
       "  Unnamed: 9_level_1         ...         Unnamed: 33_level_1   \n",
       "0                NaN         ...                         NaN   \n",
       "1                NaN         ...                         NaN   \n",
       "\n",
       "  Unnamed: 34_level_0 Unnamed: 35_level_0 Unnamed: 36_level_0  \\\n",
       "  Unnamed: 34_level_1 Unnamed: 35_level_1 Unnamed: 36_level_1   \n",
       "0                 NaN                 NaN                 NaN   \n",
       "1                 NaN                 NaN                 NaN   \n",
       "\n",
       "  Unnamed: 37_level_0 Unnamed: 38_level_0 Unnamed: 39_level_0  \\\n",
       "  Unnamed: 37_level_1 Unnamed: 38_level_1 Unnamed: 39_level_1   \n",
       "0                 NaN                 NaN                 NaN   \n",
       "1                 NaN                 NaN                 NaN   \n",
       "\n",
       "  Unnamed: 40_level_0 Unnamed: 41_level_0 Unnamed: 42_level_0  \n",
       "  Unnamed: 40_level_1 Unnamed: 41_level_1 Unnamed: 42_level_1  \n",
       "0                 NaN                 NaN                 NaN  \n",
       "1                 NaN                 NaN                 NaN  \n",
       "\n",
       "[2 rows x 43 columns]"
      ]
     },
     "execution_count": 199,
     "metadata": {},
     "output_type": "execute_result"
    }
   ],
   "source": [
    "congress_df.head(2)"
   ]
  },
  {
   "cell_type": "code",
   "execution_count": 200,
   "metadata": {},
   "outputs": [],
   "source": [
    "# Drop a level from headers\n",
    "congress_df.columns = congress_df.columns.droplevel()"
   ]
  },
  {
   "cell_type": "code",
   "execution_count": 201,
   "metadata": {},
   "outputs": [
    {
     "data": {
      "text/plain": [
       "43"
      ]
     },
     "execution_count": 201,
     "metadata": {},
     "output_type": "execute_result"
    }
   ],
   "source": [
    "# printing the length of columns array\n",
    "len(congress_df.columns.values)"
   ]
  },
  {
   "cell_type": "code",
   "execution_count": 202,
   "metadata": {},
   "outputs": [],
   "source": [
    "congress_df = congress_df.drop(congress_df.index[333])"
   ]
  },
  {
   "cell_type": "code",
   "execution_count": 203,
   "metadata": {},
   "outputs": [],
   "source": [
    "# dropping some columns\n",
    "congress_cleaning = congress_df[['Unnamed: 0_level_1','%']]"
   ]
  },
  {
   "cell_type": "code",
   "execution_count": 205,
   "metadata": {},
   "outputs": [],
   "source": [
    "congress_clean = congress_cleaning.rename(columns={\n",
    "    'Unnamed: 0_level_1':'weekly','%':'approve','%':'disapprove','%':'no_opinion'\n",
    "})"
   ]
  },
  {
   "cell_type": "code",
   "execution_count": 208,
   "metadata": {},
   "outputs": [
    {
     "data": {
      "text/html": [
       "<div>\n",
       "<style scoped>\n",
       "    .dataframe tbody tr th:only-of-type {\n",
       "        vertical-align: middle;\n",
       "    }\n",
       "\n",
       "    .dataframe tbody tr th {\n",
       "        vertical-align: top;\n",
       "    }\n",
       "\n",
       "    .dataframe thead th {\n",
       "        text-align: right;\n",
       "    }\n",
       "</style>\n",
       "<table border=\"1\" class=\"dataframe\">\n",
       "  <thead>\n",
       "    <tr style=\"text-align: right;\">\n",
       "      <th></th>\n",
       "      <th>weekly</th>\n",
       "      <th>no_opinion</th>\n",
       "      <th>no_opinion</th>\n",
       "      <th>no_opinion</th>\n",
       "    </tr>\n",
       "  </thead>\n",
       "  <tbody>\n",
       "    <tr>\n",
       "      <th>328</th>\n",
       "      <td>1975 Apr 18-21</td>\n",
       "      <td>38</td>\n",
       "      <td>48</td>\n",
       "      <td>14</td>\n",
       "    </tr>\n",
       "    <tr>\n",
       "      <th>329</th>\n",
       "      <td>1975 Feb 28-Mar 3</td>\n",
       "      <td>32</td>\n",
       "      <td>50</td>\n",
       "      <td>18</td>\n",
       "    </tr>\n",
       "    <tr>\n",
       "      <th>330</th>\n",
       "      <td>1974 Oct 11-14</td>\n",
       "      <td>35</td>\n",
       "      <td>43</td>\n",
       "      <td>22</td>\n",
       "    </tr>\n",
       "    <tr>\n",
       "      <th>331</th>\n",
       "      <td>1974 Aug 16-19</td>\n",
       "      <td>47</td>\n",
       "      <td>34</td>\n",
       "      <td>19</td>\n",
       "    </tr>\n",
       "    <tr>\n",
       "      <th>332</th>\n",
       "      <td>1974 Apr 12-15</td>\n",
       "      <td>30</td>\n",
       "      <td>47</td>\n",
       "      <td>23</td>\n",
       "    </tr>\n",
       "  </tbody>\n",
       "</table>\n",
       "</div>"
      ],
      "text/plain": [
       "                weekly no_opinion no_opinion no_opinion\n",
       "328     1975 Apr 18-21         38         48         14\n",
       "329  1975 Feb 28-Mar 3         32         50         18\n",
       "330     1974 Oct 11-14         35         43         22\n",
       "331     1974 Aug 16-19         47         34         19\n",
       "332     1974 Apr 12-15         30         47         23"
      ]
     },
     "execution_count": 208,
     "metadata": {},
     "output_type": "execute_result"
    }
   ],
   "source": [
    "# print last five rows\n",
    "congress_clean.tail()"
   ]
  },
  {
   "cell_type": "code",
   "execution_count": 209,
   "metadata": {},
   "outputs": [
    {
     "data": {
      "text/plain": [
       "weekly        object\n",
       "no_opinion    object\n",
       "no_opinion    object\n",
       "no_opinion    object\n",
       "dtype: object"
      ]
     },
     "execution_count": 209,
     "metadata": {},
     "output_type": "execute_result"
    }
   ],
   "source": [
    "congress_clean.dtypes"
   ]
  },
  {
   "cell_type": "code",
   "execution_count": null,
   "metadata": {},
   "outputs": [],
   "source": []
  }
 ],
 "metadata": {
  "kernelspec": {
   "display_name": "Python 3",
   "language": "python",
   "name": "python3"
  },
  "language_info": {
   "codemirror_mode": {
    "name": "ipython",
    "version": 3
   },
   "file_extension": ".py",
   "mimetype": "text/x-python",
   "name": "python",
   "nbconvert_exporter": "python",
   "pygments_lexer": "ipython3",
   "version": "3.6.5"
  }
 },
 "nbformat": 4,
 "nbformat_minor": 2
}
