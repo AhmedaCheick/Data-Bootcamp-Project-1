{
 "cells": [
  {
   "cell_type": "code",
   "execution_count": 1,
   "metadata": {},
   "outputs": [],
   "source": [
    "# Import dependencies\n",
    "import pandas as pd"
   ]
  },
  {
   "cell_type": "code",
   "execution_count": 22,
   "metadata": {},
   "outputs": [
    {
     "name": "stdout",
     "output_type": "stream",
     "text": [
      "    shutdown_number   from_date     to_date  length_in_days  \\\n",
      "0                 1  1976-09-30  1976-10-11              12   \n",
      "1                 2  1977-09-30  1977-10-13              14   \n",
      "2                 3  1977-10-31  1977-11-09              10   \n",
      "3                 4  1977-11-30  1977-12-09              10   \n",
      "4                 5  1978-09-30  1978-10-18              19   \n",
      "5                 6  1979-09-30  1979-10-12              13   \n",
      "6                 7  1981-11-20  1981-11-23               4   \n",
      "7                 8  1982-09-30  1982-10-02               3   \n",
      "8                 9  1982-12-17  1982-12-21               5   \n",
      "9                10  1983-11-10  1983-11-14               5   \n",
      "10               11  1984-09-30  1984-10-03               4   \n",
      "11               12  1984-10-03  1984-10-05               3   \n",
      "12               13  1986-10-16  1986-10-18               3   \n",
      "13               14  1987-12-18  1987-12-20               3   \n",
      "14               15  1990-10-05  1990-10-09               5   \n",
      "15               16  1995-11-13  1995-11-19               7   \n",
      "16               17  1995-12-05  1996-01-06              33   \n",
      "17               18  2013-10-01  2013-10-17              17   \n",
      "18               19  2018-01-20  2018-01-22               3   \n",
      "19               20  2018-02-09  2018-02-09               1   \n",
      "\n",
      "   pres_party_in_power      president senate_party_in_power senate_seats  \\\n",
      "0                    R           Ford                     D        62-38   \n",
      "1                    D         Carter                     D        59-41   \n",
      "2                    D         Carter                     D        59-41   \n",
      "3                    D         Carter                     D        59-41   \n",
      "4                    D         Carter                     D        59-41   \n",
      "5                    D         Carter                     D        58-42   \n",
      "6                    R         Reagan                     R        53-47   \n",
      "7                    R         Reagan                     R        53-47   \n",
      "8                    R         Reagan                     R        53-47   \n",
      "9                    R         Reagan                     R        55-45   \n",
      "10                   R         Reagan                     R        55-45   \n",
      "11                   R         Reagan                     R        55-45   \n",
      "12                   R         Reagan                     R        53-47   \n",
      "13                   R         Reagan                     D        54-46   \n",
      "14                   R  G. H. W. Bush                     D        55-45   \n",
      "15                   D        Clinton                     R        53-47   \n",
      "16                   D        Clinton                     R        53-47   \n",
      "17                   D          Obama                     D        54-46   \n",
      "18                   R          Trump                     R        51-49   \n",
      "19                   R          Trump                     R        51-49   \n",
      "\n",
      "   house_party_in_power house_seats  \n",
      "0                     D     291-144  \n",
      "1                     D     292-143  \n",
      "2                     D     292-143  \n",
      "3                     D     292-143  \n",
      "4                     D     292-143  \n",
      "5                     D     277-158  \n",
      "6                     D     244-191  \n",
      "7                     D     244-191  \n",
      "8                     D     244-191  \n",
      "9                     D     271-164  \n",
      "10                    D     270-165  \n",
      "11                    D     270-165  \n",
      "12                    D     253-182  \n",
      "13                    D     258-177  \n",
      "14                    D     258-176  \n",
      "15                    R     233-199  \n",
      "16                    R     235-198  \n",
      "17                    R     232-200  \n",
      "18                    R     238-193  \n",
      "19                    R     238-193  \n",
      "\n"
     ]
    }
   ],
   "source": [
    "# Import the shutdown data excel spreadsheet\n",
    "\n",
    "# The source of the Excel file is:\n",
    "# https://www.vox.com/policy-and-politics/2018/1/19/16905584/government-shutdown-history-clinton-obama-explained\n",
    "\n",
    "# Load spreadsheet\n",
    "xl = pd.ExcelFile(\"../Input/government_shutdown_stats.xlsx\")\n",
    "\n",
    "# Load a sheet into a DataFrame by name:\n",
    "shutdown_df = xl.parse(xl.sheet_names[0])\n",
    "\n",
    "# Print the df\n",
    "print(shutdown_df)\n",
    "print()"
   ]
  },
  {
   "cell_type": "code",
   "execution_count": 24,
   "metadata": {},
   "outputs": [
    {
     "data": {
      "text/plain": [
       "[['62', '38'],\n",
       " ['59', '41'],\n",
       " ['59', '41'],\n",
       " ['59', '41'],\n",
       " ['59', '41'],\n",
       " ['58', '42'],\n",
       " ['53', '47'],\n",
       " ['53', '47'],\n",
       " ['53', '47'],\n",
       " ['55', '45'],\n",
       " ['55', '45'],\n",
       " ['55', '45'],\n",
       " ['53', '47'],\n",
       " ['54', '46'],\n",
       " ['55', '45'],\n",
       " ['53', '47'],\n",
       " ['53', '47'],\n",
       " ['54', '46'],\n",
       " ['51', '49'],\n",
       " ['51', '49']]"
      ]
     },
     "execution_count": 24,
     "metadata": {},
     "output_type": "execute_result"
    }
   ],
   "source": [
    "s_list = []\n",
    "for i in shutdown_df[\"senate_seats\"]:\n",
    "    s_list.append(i.split(\"-\"))\n",
    "s_list"
   ]
  },
  {
   "cell_type": "code",
   "execution_count": 21,
   "metadata": {},
   "outputs": [
    {
     "data": {
      "text/html": [
       "<div>\n",
       "<style scoped>\n",
       "    .dataframe tbody tr th:only-of-type {\n",
       "        vertical-align: middle;\n",
       "    }\n",
       "\n",
       "    .dataframe tbody tr th {\n",
       "        vertical-align: top;\n",
       "    }\n",
       "\n",
       "    .dataframe thead th {\n",
       "        text-align: right;\n",
       "    }\n",
       "</style>\n",
       "<table border=\"1\" class=\"dataframe\">\n",
       "  <thead>\n",
       "    <tr style=\"text-align: right;\">\n",
       "      <th></th>\n",
       "      <th></th>\n",
       "      <th>spip_count</th>\n",
       "    </tr>\n",
       "    <tr>\n",
       "      <th>senate_party_in_power</th>\n",
       "      <th>senate_party_in_power</th>\n",
       "      <th></th>\n",
       "    </tr>\n",
       "  </thead>\n",
       "  <tbody>\n",
       "    <tr>\n",
       "      <th>D</th>\n",
       "      <th>D</th>\n",
       "      <td>9</td>\n",
       "    </tr>\n",
       "    <tr>\n",
       "      <th>R</th>\n",
       "      <th>R</th>\n",
       "      <td>11</td>\n",
       "    </tr>\n",
       "  </tbody>\n",
       "</table>\n",
       "</div>"
      ],
      "text/plain": [
       "                                             spip_count\n",
       "senate_party_in_power senate_party_in_power            \n",
       "D                     D                               9\n",
       "R                     R                              11"
      ]
     },
     "execution_count": 21,
     "metadata": {},
     "output_type": "execute_result"
    }
   ],
   "source": [
    "# ted_group = ted_df.groupby(\"View Group\")  \n",
    "spip = shutdown_df.groupby(\"senate_party_in_power\")\n",
    "spip_df = pd.DataFrame(spip[\"senate_party_in_power\"].value_counts())\n",
    "spip_df = spip_df.rename(columns={\"senate_party_in_power\" : \"spip_count\"})\n",
    "spip_df\n",
    "\n",
    "# assignee_work = pd.DataFrame(assignee_group[\"Component\"].value_counts())"
   ]
  },
  {
   "cell_type": "code",
   "execution_count": 19,
   "metadata": {},
   "outputs": [
    {
     "data": {
      "text/plain": [
       "0    62 - 38\n",
       "1    59 - 41\n",
       "Name: senate_seats, dtype: object"
      ]
     },
     "execution_count": 19,
     "metadata": {},
     "output_type": "execute_result"
    }
   ],
   "source": [
    "test1 = shutdown_df[\"senate_seats\"][:2]\n",
    "test1"
   ]
  },
  {
   "cell_type": "code",
   "execution_count": 4,
   "metadata": {},
   "outputs": [
    {
     "ename": "ValueError",
     "evalue": "The truth value of a Series is ambiguous. Use a.empty, a.bool(), a.item(), a.any() or a.all().",
     "output_type": "error",
     "traceback": [
      "\u001b[1;31m---------------------------------------------------------------------------\u001b[0m",
      "\u001b[1;31mValueError\u001b[0m                                Traceback (most recent call last)",
      "\u001b[1;32m<ipython-input-4-baa5b580c9a6>\u001b[0m in \u001b[0;36m<module>\u001b[1;34m()\u001b[0m\n\u001b[1;32m----> 1\u001b[1;33m \u001b[1;32mif\u001b[0m \u001b[0mshutdown_df\u001b[0m\u001b[1;33m[\u001b[0m\u001b[1;34m\"senate_party_in_power\"\u001b[0m\u001b[1;33m]\u001b[0m \u001b[1;33m==\u001b[0m \u001b[1;34m\"D\"\u001b[0m\u001b[1;33m:\u001b[0m\u001b[1;33m\u001b[0m\u001b[0m\n\u001b[0m\u001b[0;32m      2\u001b[0m     \u001b[0mshutdown_df\u001b[0m\u001b[1;33m[\u001b[0m\u001b[1;34m\"ds_seats\"\u001b[0m\u001b[1;33m]\u001b[0m \u001b[1;33m=\u001b[0m \u001b[0mshutdown_df\u001b[0m\u001b[1;33m[\u001b[0m\u001b[1;34m\"senate_seats\"\u001b[0m\u001b[1;33m]\u001b[0m\u001b[1;33m[\u001b[0m\u001b[1;33m:\u001b[0m\u001b[1;36m2\u001b[0m\u001b[1;33m]\u001b[0m\u001b[1;33m\u001b[0m\u001b[0m\n\u001b[0;32m      3\u001b[0m \u001b[1;32melse\u001b[0m\u001b[1;33m:\u001b[0m\u001b[1;33m\u001b[0m\u001b[0m\n\u001b[0;32m      4\u001b[0m     \u001b[0mshutdown_df\u001b[0m\u001b[1;33m[\u001b[0m\u001b[1;34m\"ds_seats\"\u001b[0m\u001b[1;33m]\u001b[0m \u001b[1;33m=\u001b[0m \u001b[0mshutdown_df\u001b[0m\u001b[1;33m[\u001b[0m\u001b[1;34m\"senate_seats\"\u001b[0m\u001b[1;33m]\u001b[0m\u001b[1;33m[\u001b[0m\u001b[1;36m5\u001b[0m\u001b[1;33m:\u001b[0m\u001b[1;36m2\u001b[0m\u001b[1;33m]\u001b[0m\u001b[1;33m\u001b[0m\u001b[0m\n",
      "\u001b[1;32m~\\Anaconda3\\lib\\site-packages\\pandas\\core\\generic.py\u001b[0m in \u001b[0;36m__nonzero__\u001b[1;34m(self)\u001b[0m\n\u001b[0;32m   1574\u001b[0m         raise ValueError(\"The truth value of a {0} is ambiguous. \"\n\u001b[0;32m   1575\u001b[0m                          \u001b[1;34m\"Use a.empty, a.bool(), a.item(), a.any() or a.all().\"\u001b[0m\u001b[1;33m\u001b[0m\u001b[0m\n\u001b[1;32m-> 1576\u001b[1;33m                          .format(self.__class__.__name__))\n\u001b[0m\u001b[0;32m   1577\u001b[0m \u001b[1;33m\u001b[0m\u001b[0m\n\u001b[0;32m   1578\u001b[0m     \u001b[0m__bool__\u001b[0m \u001b[1;33m=\u001b[0m \u001b[0m__nonzero__\u001b[0m\u001b[1;33m\u001b[0m\u001b[0m\n",
      "\u001b[1;31mValueError\u001b[0m: The truth value of a Series is ambiguous. Use a.empty, a.bool(), a.item(), a.any() or a.all()."
     ]
    }
   ],
   "source": [
    "if shutdown_df[\"senate_party_in_power\"] == \"D\":\n",
    "    shutdown_df[\"ds_seats\"] = shutdown_df[\"senate_seats\"][:2]\n",
    "else:\n",
    "    shutdown_df[\"ds_seats\"] = shutdown_df[\"senate_seats\"][5:2]"
   ]
  },
  {
   "cell_type": "code",
   "execution_count": null,
   "metadata": {},
   "outputs": [],
   "source": []
  },
  {
   "cell_type": "code",
   "execution_count": null,
   "metadata": {},
   "outputs": [],
   "source": []
  }
 ],
 "metadata": {
  "kernelspec": {
   "display_name": "Python 3",
   "language": "python",
   "name": "python3"
  },
  "language_info": {
   "codemirror_mode": {
    "name": "ipython",
    "version": 3
   },
   "file_extension": ".py",
   "mimetype": "text/x-python",
   "name": "python",
   "nbconvert_exporter": "python",
   "pygments_lexer": "ipython3",
   "version": "3.7.0"
  }
 },
 "nbformat": 4,
 "nbformat_minor": 2
}
