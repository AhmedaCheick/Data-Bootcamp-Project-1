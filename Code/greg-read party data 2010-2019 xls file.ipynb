{
 "cells": [
  {
   "cell_type": "code",
   "execution_count": 1,
   "metadata": {},
   "outputs": [],
   "source": [
    "import pandas as pd"
   ]
  },
  {
   "cell_type": "code",
   "execution_count": 2,
   "metadata": {},
   "outputs": [
    {
     "name": "stdout",
     "output_type": "stream",
     "text": [
      "     years president party_president  house_dem_seats  house_rep_seats  \\\n",
      "0  2011-12     Obama               D              193              242   \n",
      "1  2013-14     Obama               D              201              234   \n",
      "2  2015-16     Obama               D              194              241   \n",
      "3  2017-18     Trump               R              235              199   \n",
      "4     2019     Trump               R              235              199   \n",
      "\n",
      "   house_other_seats  senate_dem_seats  senate_rep_seats  senate_other_seats  \\\n",
      "0                  0                51                47                   2   \n",
      "1                  0                53                45                   2   \n",
      "2                  0                44                54                   2   \n",
      "3                  0                45                55                   2   \n",
      "4                  0                45                55                   2   \n",
      "\n",
      "   gov_status  \n",
      "0         NaN  \n",
      "1         NaN  \n",
      "2         NaN  \n",
      "3         NaN  \n",
      "4         NaN  \n"
     ]
    }
   ],
   "source": [
    "# Load spreadsheet\n",
    "xl = pd.ExcelFile(\"../Input/party data 2010-2019.xlsx\")\n",
    "\n",
    "# Load a sheet into a DataFrame by name:\n",
    "party_data_df = xl.parse(xl.sheet_names[0])\n",
    "\n",
    "# Print the df\n",
    "print(party_data_df)"
   ]
  }
 ],
 "metadata": {
  "kernelspec": {
   "display_name": "Python 3",
   "language": "python",
   "name": "python3"
  },
  "language_info": {
   "codemirror_mode": {
    "name": "ipython",
    "version": 3
   },
   "file_extension": ".py",
   "mimetype": "text/x-python",
   "name": "python",
   "nbconvert_exporter": "python",
   "pygments_lexer": "ipython3",
   "version": "3.7.0"
  }
 },
 "nbformat": 4,
 "nbformat_minor": 2
}
